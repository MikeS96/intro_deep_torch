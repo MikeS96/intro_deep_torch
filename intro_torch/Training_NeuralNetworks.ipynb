{
 "cells": [
  {
   "cell_type": "markdown",
   "metadata": {},
   "source": [
    "# Training Neural Networks\n",
    "\n",
    "The network we built in the previous part isn't so smart, it doesn't know anything about our handwritten digits. Neural networks with non-linear activations work like universal function approximators. There is some function that maps your input to the output. For example, images of handwritten digits to class probabilities. The power of neural networks is that we can train them to approximate this function, and basically any function given enough data and compute time.\n",
    "\n",
    "<img src=\"assets/function_approx.png\" width=500px>\n",
    "\n",
    "At first the network is naive, it doesn't know the function mapping the inputs to the outputs. We train the network by showing it examples of real data, then adjusting the network parameters such that it approximates this function.\n",
    "\n",
    "To find these parameters, we need to know how poorly the network is predicting the real outputs. For this we calculate a **loss function** (also called the cost), a measure of our prediction error. For example, the mean squared loss is often used in regression and binary classification problems\n",
    "\n",
    "$$\n",
    "\\large \\ell = \\frac{1}{2n}\\sum_i^n{\\left(y_i - \\hat{y}_i\\right)^2}\n",
    "$$\n",
    "\n",
    "where $n$ is the number of training examples, $y_i$ are the true labels, and $\\hat{y}_i$ are the predicted labels.\n",
    "\n",
    "By minimizing this loss with respect to the network parameters, we can find configurations where the loss is at a minimum and the network is able to predict the correct labels with high accuracy. We find this minimum using a process called **gradient descent**. The gradient is the slope of the loss function and points in the direction of fastest change. To get to the minimum in the least amount of time, we then want to follow the gradient (downwards). You can think of this like descending a mountain by following the steepest slope to the base.\n",
    "\n",
    "<img src='assets/gradient_descent.png' width=350px>"
   ]
  },
  {
   "cell_type": "markdown",
   "metadata": {},
   "source": [
    "## Backpropagation\n",
    "\n",
    "For single layer networks, gradient descent is straightforward to implement. However, it's more complicated for deeper, multilayer neural networks like the one we've built. Complicated enough that it took about 30 years before researchers figured out how to train multilayer networks.\n",
    "\n",
    "Training multilayer networks is done through **backpropagation** which is really just an application of the chain rule from calculus. It's easiest to understand if we convert a two layer network into a graph representation.\n",
    "\n",
    "<img src='assets/backprop_diagram.png' width=550px>\n",
    "\n",
    "In the forward pass through the network, our data and operations go from bottom to top here. We pass the input $x$ through a linear transformation $L_1$ with weights $W_1$ and biases $b_1$. The output then goes through the sigmoid operation $S$ and another linear transformation $L_2$. Finally we calculate the loss $\\ell$. We use the loss as a measure of how bad the network's predictions are. The goal then is to adjust the weights and biases to minimize the loss.\n",
    "\n",
    "To train the weights with gradient descent, we propagate the gradient of the loss backwards through the network. Each operation has some gradient between the inputs and outputs. As we send the gradients backwards, we multiply the incoming gradient with the gradient for the operation. Mathematically, this is really just calculating the gradient of the loss with respect to the weights using the chain rule.\n",
    "\n",
    "$$\n",
    "\\large \\frac{\\partial \\ell}{\\partial W_1} = \\frac{\\partial L_1}{\\partial W_1} \\frac{\\partial S}{\\partial L_1} \\frac{\\partial L_2}{\\partial S} \\frac{\\partial \\ell}{\\partial L_2}\n",
    "$$\n",
    "\n",
    "**Note:** I'm glossing over a few details here that require some knowledge of vector calculus, but they aren't necessary to understand what's going on.\n",
    "\n",
    "We update our weights using this gradient with some learning rate $\\alpha$. \n",
    "\n",
    "$$\n",
    "\\large W^\\prime_1 = W_1 - \\alpha \\frac{\\partial \\ell}{\\partial W_1}\n",
    "$$\n",
    "\n",
    "The learning rate $\\alpha$ is set such that the weight update steps are small enough that the iterative method settles in a minimum."
   ]
  },
  {
   "cell_type": "markdown",
   "metadata": {},
   "source": [
    "## Losses in PyTorch\n",
    "\n",
    "Let's start by seeing how we calculate the loss with PyTorch. Through the `nn` module, PyTorch provides losses such as the cross-entropy loss (`nn.CrossEntropyLoss`). You'll usually see the loss assigned to `criterion`. As noted in the last part, with a classification problem such as MNIST, we're using the softmax function to predict class probabilities. With a softmax output, you want to use cross-entropy as the loss. To actually calculate the loss, you first define the criterion then pass in the output of your network and the correct labels.\n",
    "\n",
    "Something really important to note here. Looking at [the documentation for `nn.CrossEntropyLoss`](https://pytorch.org/docs/stable/nn.html#torch.nn.CrossEntropyLoss),\n",
    "\n",
    "> This criterion combines `nn.LogSoftmax()` and `nn.NLLLoss()` in one single class.\n",
    ">\n",
    "> The input is expected to contain scores for each class.\n",
    "\n",
    "This means we need to pass in the raw output of our network into the loss, not the output of the softmax function. This raw output is usually called the *logits* or *scores*. We use the logits because softmax gives you probabilities which will often be very close to zero or one but floating-point numbers can't accurately represent values near zero or one ([read more here](https://docs.python.org/3/tutorial/floatingpoint.html)). It's usually best to avoid doing calculations with probabilities, typically we use log-probabilities."
   ]
  },
  {
   "cell_type": "code",
   "execution_count": 1,
   "metadata": {},
   "outputs": [],
   "source": [
    "import torch\n",
    "from torch import nn\n",
    "import torch.nn.functional as F\n",
    "from torchvision import datasets, transforms\n",
    "\n",
    "# Define a transform to normalize the data\n",
    "transform = transforms.Compose([transforms.ToTensor(),\n",
    "                                transforms.Normalize((0.5,), (0.5,)),\n",
    "                              ])\n",
    "# Download and load the training data\n",
    "trainset = datasets.MNIST('~/.pytorch/MNIST_data/', download=True, train=True, transform=transform)\n",
    "trainloader = torch.utils.data.DataLoader(trainset, batch_size=64, shuffle=True)"
   ]
  },
  {
   "cell_type": "markdown",
   "metadata": {},
   "source": [
    "### Note\n",
    "If you haven't seen `nn.Sequential` yet, please finish the end of the Part 2 notebook."
   ]
  },
  {
   "cell_type": "code",
   "execution_count": 2,
   "metadata": {},
   "outputs": [
    {
     "name": "stdout",
     "output_type": "stream",
     "text": [
      "tensor(2.3067, grad_fn=<NllLossBackward>)\n"
     ]
    }
   ],
   "source": [
    "# Build a feed-forward network\n",
    "model = nn.Sequential(nn.Linear(784, 128),\n",
    "                      nn.ReLU(),\n",
    "                      nn.Linear(128, 64),\n",
    "                      nn.ReLU(),\n",
    "                      nn.Linear(64, 10))\n",
    "\n",
    "# Define the loss\n",
    "criterion = nn.CrossEntropyLoss()\n",
    "\n",
    "# Get our data\n",
    "images, labels = next(iter(trainloader))\n",
    "# Flatten images\n",
    "images = images.view(images.shape[0], -1)\n",
    "\n",
    "# Forward pass, get our logits\n",
    "logits = model(images)\n",
    "# Calculate the loss with the logits and the labels\n",
    "loss = criterion(logits, labels)\n",
    "\n",
    "print(loss)"
   ]
  },
  {
   "cell_type": "markdown",
   "metadata": {},
   "source": [
    "In my experience it's more convenient to build the model with a log-softmax output using `nn.LogSoftmax` or `F.log_softmax` ([documentation](https://pytorch.org/docs/stable/nn.html#torch.nn.LogSoftmax)). Then you can get the actual probabilities by taking the exponential `torch.exp(output)`. With a log-softmax output, you want to use the negative log likelihood loss, `nn.NLLLoss` ([documentation](https://pytorch.org/docs/stable/nn.html#torch.nn.NLLLoss)).\n",
    "\n",
    ">**Exercise:** Build a model that returns the log-softmax as the output and calculate the loss using the negative log likelihood loss. Note that for `nn.LogSoftmax` and `F.log_softmax` you'll need to set the `dim` keyword argument appropriately. `dim=0` calculates softmax across the rows, so each column sums to 1, while `dim=1` calculates across the columns so each row sums to 1. Think about what you want the output to be and choose `dim` appropriately."
   ]
  },
  {
   "cell_type": "code",
   "execution_count": 23,
   "metadata": {},
   "outputs": [
    {
     "name": "stdout",
     "output_type": "stream",
     "text": [
      "tensor([[0.0957, 0.1137, 0.0869, 0.1082, 0.1199, 0.0989, 0.0986, 0.0847, 0.0979,\n",
      "         0.0956],\n",
      "        [0.0959, 0.1061, 0.0794, 0.1154, 0.1297, 0.0937, 0.1081, 0.0782, 0.0944,\n",
      "         0.0990],\n",
      "        [0.0906, 0.1061, 0.0751, 0.1155, 0.1309, 0.0979, 0.1004, 0.0815, 0.0991,\n",
      "         0.1029],\n",
      "        [0.0929, 0.1052, 0.0834, 0.1098, 0.1264, 0.1053, 0.1058, 0.0808, 0.0917,\n",
      "         0.0986],\n",
      "        [0.0908, 0.1018, 0.0876, 0.1166, 0.1229, 0.0899, 0.1171, 0.0768, 0.0914,\n",
      "         0.1051],\n",
      "        [0.1001, 0.1035, 0.0782, 0.1132, 0.1327, 0.0911, 0.1091, 0.0764, 0.0957,\n",
      "         0.0999],\n",
      "        [0.0961, 0.1026, 0.0858, 0.1149, 0.1184, 0.1014, 0.1097, 0.0838, 0.0854,\n",
      "         0.1017],\n",
      "        [0.0867, 0.1123, 0.0792, 0.1123, 0.1187, 0.0993, 0.1068, 0.0808, 0.1045,\n",
      "         0.0994],\n",
      "        [0.0959, 0.1106, 0.0888, 0.1085, 0.1160, 0.0976, 0.1081, 0.0835, 0.0931,\n",
      "         0.0978],\n",
      "        [0.0857, 0.1144, 0.0835, 0.1098, 0.1186, 0.1058, 0.1047, 0.0779, 0.0929,\n",
      "         0.1067],\n",
      "        [0.0970, 0.1097, 0.0753, 0.1234, 0.1244, 0.0896, 0.1023, 0.0836, 0.0931,\n",
      "         0.1016],\n",
      "        [0.0911, 0.0988, 0.0919, 0.1062, 0.1221, 0.1027, 0.1138, 0.0797, 0.0883,\n",
      "         0.1054],\n",
      "        [0.0905, 0.1141, 0.0825, 0.1053, 0.1232, 0.1059, 0.0974, 0.0837, 0.0972,\n",
      "         0.1004],\n",
      "        [0.0919, 0.1107, 0.0797, 0.1124, 0.1193, 0.1008, 0.1016, 0.0798, 0.0985,\n",
      "         0.1052],\n",
      "        [0.0937, 0.1152, 0.0826, 0.1174, 0.1120, 0.1029, 0.0981, 0.0821, 0.0942,\n",
      "         0.1018],\n",
      "        [0.0927, 0.1168, 0.0843, 0.1148, 0.1117, 0.0987, 0.0989, 0.0849, 0.0992,\n",
      "         0.0980],\n",
      "        [0.0883, 0.1055, 0.0830, 0.1216, 0.1147, 0.1025, 0.1150, 0.0763, 0.0895,\n",
      "         0.1037],\n",
      "        [0.0892, 0.1095, 0.0874, 0.1061, 0.1225, 0.0976, 0.1177, 0.0745, 0.0931,\n",
      "         0.1024],\n",
      "        [0.0903, 0.1044, 0.0798, 0.1184, 0.1262, 0.0982, 0.0995, 0.0823, 0.0958,\n",
      "         0.1050],\n",
      "        [0.0879, 0.1016, 0.0824, 0.1119, 0.1274, 0.0985, 0.1059, 0.0801, 0.1003,\n",
      "         0.1040],\n",
      "        [0.0962, 0.1036, 0.0902, 0.1139, 0.1246, 0.0925, 0.1131, 0.0759, 0.0906,\n",
      "         0.0992],\n",
      "        [0.0946, 0.1143, 0.0860, 0.1124, 0.1232, 0.0948, 0.1057, 0.0777, 0.0946,\n",
      "         0.0968],\n",
      "        [0.0935, 0.1141, 0.0875, 0.1147, 0.1175, 0.0937, 0.1039, 0.0818, 0.0912,\n",
      "         0.1023],\n",
      "        [0.0915, 0.1060, 0.0892, 0.1116, 0.1146, 0.1043, 0.1139, 0.0794, 0.0920,\n",
      "         0.0975],\n",
      "        [0.0908, 0.1056, 0.0817, 0.1094, 0.1245, 0.1033, 0.1011, 0.0806, 0.1024,\n",
      "         0.1005],\n",
      "        [0.0912, 0.1066, 0.0963, 0.0991, 0.1205, 0.1047, 0.1103, 0.0806, 0.0864,\n",
      "         0.1042],\n",
      "        [0.0929, 0.1165, 0.0834, 0.1151, 0.1156, 0.0961, 0.1025, 0.0831, 0.0933,\n",
      "         0.1015],\n",
      "        [0.0926, 0.1075, 0.0831, 0.1175, 0.1212, 0.0951, 0.1063, 0.0812, 0.0901,\n",
      "         0.1054],\n",
      "        [0.0946, 0.1107, 0.0820, 0.1193, 0.1329, 0.0857, 0.1050, 0.0780, 0.0916,\n",
      "         0.1003],\n",
      "        [0.0898, 0.1023, 0.0812, 0.1148, 0.1280, 0.0935, 0.1062, 0.0792, 0.0993,\n",
      "         0.1056],\n",
      "        [0.0904, 0.1168, 0.0837, 0.1147, 0.1158, 0.1055, 0.0994, 0.0813, 0.0928,\n",
      "         0.0995],\n",
      "        [0.0880, 0.1072, 0.0836, 0.1056, 0.1193, 0.1108, 0.1083, 0.0748, 0.0899,\n",
      "         0.1124],\n",
      "        [0.0888, 0.1126, 0.0766, 0.1112, 0.1198, 0.1024, 0.1008, 0.0810, 0.1095,\n",
      "         0.0973],\n",
      "        [0.0895, 0.1097, 0.0775, 0.1158, 0.1241, 0.0985, 0.1077, 0.0739, 0.0993,\n",
      "         0.1038],\n",
      "        [0.0874, 0.1068, 0.0874, 0.1026, 0.1277, 0.1018, 0.1034, 0.0766, 0.0946,\n",
      "         0.1117],\n",
      "        [0.0884, 0.1144, 0.0815, 0.1097, 0.1169, 0.1126, 0.0923, 0.0845, 0.1011,\n",
      "         0.0986],\n",
      "        [0.0935, 0.1166, 0.0819, 0.1098, 0.1162, 0.1006, 0.1057, 0.0784, 0.0967,\n",
      "         0.1005],\n",
      "        [0.0886, 0.1099, 0.0841, 0.1073, 0.1227, 0.1047, 0.0976, 0.0842, 0.0925,\n",
      "         0.1085],\n",
      "        [0.0920, 0.1094, 0.0874, 0.1048, 0.1095, 0.1097, 0.1084, 0.0801, 0.0957,\n",
      "         0.1029],\n",
      "        [0.0940, 0.1077, 0.0871, 0.1054, 0.1097, 0.1036, 0.1082, 0.0849, 0.0993,\n",
      "         0.1000],\n",
      "        [0.0988, 0.1184, 0.0856, 0.1165, 0.1129, 0.0930, 0.1053, 0.0817, 0.0905,\n",
      "         0.0973],\n",
      "        [0.0837, 0.1100, 0.0818, 0.1086, 0.1289, 0.1005, 0.1067, 0.0775, 0.0990,\n",
      "         0.1032],\n",
      "        [0.0940, 0.1074, 0.0850, 0.1129, 0.1240, 0.0956, 0.1091, 0.0763, 0.0911,\n",
      "         0.1046],\n",
      "        [0.0947, 0.1173, 0.0836, 0.1137, 0.1178, 0.0932, 0.1064, 0.0797, 0.0985,\n",
      "         0.0951],\n",
      "        [0.0927, 0.1047, 0.0788, 0.1188, 0.1229, 0.0970, 0.1090, 0.0750, 0.0985,\n",
      "         0.1024],\n",
      "        [0.0926, 0.1011, 0.0806, 0.1116, 0.1263, 0.1069, 0.1066, 0.0777, 0.0928,\n",
      "         0.1038],\n",
      "        [0.0862, 0.1134, 0.0873, 0.1067, 0.1204, 0.1017, 0.1043, 0.0817, 0.0973,\n",
      "         0.1010],\n",
      "        [0.0888, 0.1190, 0.0775, 0.1181, 0.1260, 0.0945, 0.1009, 0.0771, 0.0911,\n",
      "         0.1071],\n",
      "        [0.0919, 0.1137, 0.0836, 0.1082, 0.1122, 0.1054, 0.1004, 0.0828, 0.1027,\n",
      "         0.0993],\n",
      "        [0.0862, 0.1065, 0.0863, 0.1027, 0.1236, 0.1128, 0.1027, 0.0786, 0.0988,\n",
      "         0.1018],\n",
      "        [0.0916, 0.1087, 0.0832, 0.1194, 0.1202, 0.0967, 0.1079, 0.0799, 0.0995,\n",
      "         0.0929],\n",
      "        [0.0893, 0.1104, 0.0825, 0.1137, 0.1202, 0.1030, 0.1081, 0.0747, 0.0933,\n",
      "         0.1049],\n",
      "        [0.0860, 0.1086, 0.0910, 0.1101, 0.1192, 0.1005, 0.1071, 0.0775, 0.0895,\n",
      "         0.1105],\n",
      "        [0.0948, 0.1092, 0.0768, 0.1210, 0.1228, 0.0894, 0.1076, 0.0805, 0.0998,\n",
      "         0.0981],\n",
      "        [0.0917, 0.1129, 0.0843, 0.1073, 0.1186, 0.0961, 0.1026, 0.0836, 0.1014,\n",
      "         0.1015],\n",
      "        [0.0907, 0.1163, 0.0775, 0.1169, 0.1201, 0.0954, 0.1087, 0.0747, 0.0924,\n",
      "         0.1074],\n",
      "        [0.0953, 0.1067, 0.0781, 0.1073, 0.1253, 0.1037, 0.1036, 0.0798, 0.1009,\n",
      "         0.0994],\n",
      "        [0.0939, 0.1068, 0.0919, 0.1095, 0.1128, 0.1051, 0.1060, 0.0822, 0.0918,\n",
      "         0.1000],\n",
      "        [0.0904, 0.1044, 0.0805, 0.1183, 0.1232, 0.0954, 0.1053, 0.0819, 0.0986,\n",
      "         0.1021],\n",
      "        [0.0982, 0.1135, 0.0846, 0.1119, 0.1201, 0.0972, 0.0979, 0.0819, 0.0976,\n",
      "         0.0971],\n",
      "        [0.0895, 0.1103, 0.0839, 0.1097, 0.1280, 0.1031, 0.1087, 0.0739, 0.0902,\n",
      "         0.1028],\n",
      "        [0.0885, 0.1014, 0.0853, 0.1220, 0.1232, 0.0990, 0.1073, 0.0813, 0.0905,\n",
      "         0.1016],\n",
      "        [0.0904, 0.1181, 0.0825, 0.1086, 0.1268, 0.0971, 0.0970, 0.0784, 0.0983,\n",
      "         0.1028],\n",
      "        [0.0945, 0.1141, 0.0865, 0.1135, 0.1096, 0.1016, 0.1050, 0.0827, 0.0954,\n",
      "         0.0970]], grad_fn=<ExpBackward>)\n",
      "tensor(2.3009, grad_fn=<NllLossBackward>)\n"
     ]
    }
   ],
   "source": [
    "# Build a feed-forward network\n",
    "model = nn.Sequential(nn.Linear(784, 128),\n",
    "                      nn.ReLU(),\n",
    "                      nn.Linear(128, 64),\n",
    "                      nn.ReLU(),\n",
    "                      nn.Linear(64, 10),\n",
    "                      nn.LogSoftmax(dim = 1))\n",
    "\n",
    "# Define the loss\n",
    "criterion = nn.NLLLoss()\n",
    "\n",
    "### Run this to check your work\n",
    "# Get our data\n",
    "images, labels = next(iter(trainloader))\n",
    "# Flatten images\n",
    "images = images.view(images.shape[0], -1)\n",
    "\n",
    "# Forward pass, get our logits\n",
    "logsr = model(images)\n",
    "#print(torch.exp(logsr)) #To see probabilities of each class\n",
    "\n",
    "# Calculate the loss with the logits and the labels\n",
    "loss = criterion(logsr, labels)\n",
    "\n",
    "print(loss)"
   ]
  },
  {
   "cell_type": "markdown",
   "metadata": {},
   "source": [
    "## Autograd\n",
    "\n",
    "Now that we know how to calculate a loss, how do we use it to perform backpropagation? Torch provides a module, `autograd`, for automatically calculating the gradients of tensors. We can use it to calculate the gradients of all our parameters with respect to the loss. Autograd works by keeping track of operations performed on tensors, then going backwards through those operations, calculating gradients along the way. To make sure PyTorch keeps track of operations on a tensor and calculates the gradients, you need to set `requires_grad = True` on a tensor. You can do this at creation with the `requires_grad` keyword, or at any time with `x.requires_grad_(True)`.\n",
    "\n",
    "You can turn off gradients for a block of code with the `torch.no_grad()` content:\n",
    "```python\n",
    "x = torch.zeros(1, requires_grad=True)\n",
    ">>> with torch.no_grad():\n",
    "...     y = x * 2\n",
    ">>> y.requires_grad\n",
    "False\n",
    "```\n",
    "\n",
    "Also, you can turn on or off gradients altogether with `torch.set_grad_enabled(True|False)`.\n",
    "\n",
    "The gradients are computed with respect to some variable `z` with `z.backward()`. This does a backward pass through the operations that created `z`."
   ]
  },
  {
   "cell_type": "code",
   "execution_count": 14,
   "metadata": {},
   "outputs": [
    {
     "name": "stdout",
     "output_type": "stream",
     "text": [
      "tensor([[ 0.5049, -0.8940],\n",
      "        [-0.9667,  0.9762]], requires_grad=True)\n"
     ]
    }
   ],
   "source": [
    "x = torch.randn(2,2, requires_grad=True)\n",
    "print(x)"
   ]
  },
  {
   "cell_type": "code",
   "execution_count": 15,
   "metadata": {},
   "outputs": [
    {
     "name": "stdout",
     "output_type": "stream",
     "text": [
      "tensor([[0.2549, 0.7993],\n",
      "        [0.9345, 0.9530]], grad_fn=<PowBackward0>)\n"
     ]
    }
   ],
   "source": [
    "y = x**2\n",
    "print(y)"
   ]
  },
  {
   "cell_type": "markdown",
   "metadata": {},
   "source": [
    "Below we can see the operation that created `y`, a power operation `PowBackward0`."
   ]
  },
  {
   "cell_type": "code",
   "execution_count": 16,
   "metadata": {},
   "outputs": [
    {
     "name": "stdout",
     "output_type": "stream",
     "text": [
      "<PowBackward0 object at 0x7fc2b5442a58>\n"
     ]
    }
   ],
   "source": [
    "## grad_fn shows the function that generated this variable\n",
    "print(y.grad_fn)"
   ]
  },
  {
   "cell_type": "markdown",
   "metadata": {},
   "source": [
    "The autograd module keeps track of these operations and knows how to calculate the gradient for each one. In this way, it's able to calculate the gradients for a chain of operations, with respect to any one tensor. Let's reduce the tensor `y` to a scalar value, the mean."
   ]
  },
  {
   "cell_type": "code",
   "execution_count": 17,
   "metadata": {},
   "outputs": [
    {
     "name": "stdout",
     "output_type": "stream",
     "text": [
      "tensor(0.7354, grad_fn=<MeanBackward0>)\n"
     ]
    }
   ],
   "source": [
    "z = y.mean()\n",
    "print(z)"
   ]
  },
  {
   "cell_type": "markdown",
   "metadata": {},
   "source": [
    "You can check the gradients for `x` and `y` but they are empty currently."
   ]
  },
  {
   "cell_type": "code",
   "execution_count": 18,
   "metadata": {},
   "outputs": [
    {
     "name": "stdout",
     "output_type": "stream",
     "text": [
      "None\n"
     ]
    }
   ],
   "source": [
    "print(x.grad)"
   ]
  },
  {
   "cell_type": "markdown",
   "metadata": {},
   "source": [
    "To calculate the gradients, you need to run the `.backward` method on a Variable, `z` for example. This will calculate the gradient for `z` with respect to `x`\n",
    "\n",
    "$$\n",
    "\\frac{\\partial z}{\\partial x} = \\frac{\\partial}{\\partial x}\\left[\\frac{1}{n}\\sum_i^n x_i^2\\right] = \\frac{x}{2}\n",
    "$$"
   ]
  },
  {
   "cell_type": "code",
   "execution_count": 19,
   "metadata": {},
   "outputs": [
    {
     "name": "stdout",
     "output_type": "stream",
     "text": [
      "tensor([[ 0.2524, -0.4470],\n",
      "        [-0.4833,  0.4881]])\n",
      "tensor([[ 0.2524, -0.4470],\n",
      "        [-0.4833,  0.4881]], grad_fn=<DivBackward0>)\n"
     ]
    }
   ],
   "source": [
    "z.backward()\n",
    "print(x.grad)\n",
    "print(x/2)"
   ]
  },
  {
   "cell_type": "markdown",
   "metadata": {},
   "source": [
    "These gradients calculations are particularly useful for neural networks. For training we need the gradients of the cost with respect to the weights. With PyTorch, we run data forward through the network to calculate the loss, then, go backwards to calculate the gradients with respect to the loss. Once we have the gradients we can make a gradient descent step. "
   ]
  },
  {
   "cell_type": "markdown",
   "metadata": {},
   "source": [
    "## Loss and Autograd together\n",
    "\n",
    "When we create a network with PyTorch, all of the parameters are initialized with `requires_grad = True`. This means that when we calculate the loss and call `loss.backward()`, the gradients for the parameters are calculated. These gradients are used to update the weights with gradient descent. Below you can see an example of calculating the gradients using a backwards pass."
   ]
  },
  {
   "cell_type": "code",
   "execution_count": 32,
   "metadata": {},
   "outputs": [],
   "source": [
    "# Build a feed-forward network\n",
    "model = nn.Sequential(nn.Linear(784, 128),\n",
    "                      nn.ReLU(),\n",
    "                      nn.Linear(128, 64),\n",
    "                      nn.ReLU(),\n",
    "                      nn.Linear(64, 10),\n",
    "                      nn.LogSoftmax(dim=1))\n",
    "\n",
    "criterion = nn.NLLLoss()\n",
    "images, labels = next(iter(trainloader))\n",
    "images = images.view(images.shape[0], -1)\n",
    "\n",
    "logits = model(images)\n",
    "loss = criterion(logits, labels)"
   ]
  },
  {
   "cell_type": "code",
   "execution_count": 33,
   "metadata": {},
   "outputs": [
    {
     "name": "stdout",
     "output_type": "stream",
     "text": [
      "Before backward pass: \n",
      " None\n",
      "After backward pass: \n",
      " tensor([[6.1530e-06, 6.1530e-06, 6.1530e-06,  ..., 6.1528e-06, 6.1528e-06,\n",
      "         6.1528e-06],\n",
      "        [0.0000e+00, 0.0000e+00, 0.0000e+00,  ..., 0.0000e+00, 0.0000e+00,\n",
      "         0.0000e+00],\n",
      "        [4.0045e-03, 4.0045e-03, 4.0045e-03,  ..., 4.0045e-03, 4.0045e-03,\n",
      "         4.0045e-03],\n",
      "        ...,\n",
      "        [1.5270e-03, 1.5270e-03, 1.5270e-03,  ..., 1.5270e-03, 1.5270e-03,\n",
      "         1.5270e-03],\n",
      "        [1.2130e-03, 1.2130e-03, 1.2130e-03,  ..., 1.2130e-03, 1.2130e-03,\n",
      "         1.2130e-03],\n",
      "        [2.0034e-05, 2.0034e-05, 2.0034e-05,  ..., 2.0034e-05, 2.0034e-05,\n",
      "         2.0034e-05]])\n"
     ]
    }
   ],
   "source": [
    "print('Before backward pass: \\n', model[0].weight.grad)\n",
    "\n",
    "loss.backward()\n",
    "\n",
    "print('After backward pass: \\n', model[0].weight.grad)"
   ]
  },
  {
   "cell_type": "markdown",
   "metadata": {},
   "source": [
    "## Training the network!\n",
    "\n",
    "There's one last piece we need to start training, an optimizer that we'll use to update the weights with the gradients. We get these from PyTorch's [`optim` package](https://pytorch.org/docs/stable/optim.html). For example we can use stochastic gradient descent with `optim.SGD`. You can see how to define an optimizer below."
   ]
  },
  {
   "cell_type": "code",
   "execution_count": 34,
   "metadata": {},
   "outputs": [],
   "source": [
    "from torch import optim\n",
    "\n",
    "# Optimizers require the parameters to optimize and a learning rate\n",
    "optimizer = optim.SGD(model.parameters(), lr=0.01)"
   ]
  },
  {
   "cell_type": "markdown",
   "metadata": {},
   "source": [
    "Now we know how to use all the individual parts so it's time to see how they work together. Let's consider just one learning step before looping through all the data. The general process with PyTorch:\n",
    "\n",
    "* Make a forward pass through the network \n",
    "* Use the network output to calculate the loss\n",
    "* Perform a backward pass through the network with `loss.backward()` to calculate the gradients\n",
    "* Take a step with the optimizer to update the weights\n",
    "\n",
    "Below I'll go through one training step and print out the weights and gradients so you can see how it changes. Note that I have a line of code `optimizer.zero_grad()`. When you do multiple backwards passes with the same parameters, the gradients are accumulated. This means that you need to zero the gradients on each training pass or you'll retain gradients from previous training batches."
   ]
  },
  {
   "cell_type": "code",
   "execution_count": 35,
   "metadata": {},
   "outputs": [
    {
     "name": "stdout",
     "output_type": "stream",
     "text": [
      "Initial weights -  Parameter containing:\n",
      "tensor([[-0.0323, -0.0307,  0.0296,  ..., -0.0238, -0.0012, -0.0329],\n",
      "        [-0.0253, -0.0016, -0.0150,  ...,  0.0213, -0.0120, -0.0099],\n",
      "        [-0.0035,  0.0253, -0.0129,  ...,  0.0031, -0.0133,  0.0311],\n",
      "        ...,\n",
      "        [ 0.0335,  0.0222,  0.0085,  ..., -0.0325,  0.0024, -0.0258],\n",
      "        [-0.0261,  0.0246,  0.0108,  ...,  0.0294,  0.0327, -0.0047],\n",
      "        [ 0.0038, -0.0154,  0.0250,  ...,  0.0235, -0.0236,  0.0115]],\n",
      "       requires_grad=True)\n",
      "Gradient - tensor([[-7.9878e-05, -7.9878e-05, -7.9878e-05,  ..., -7.9878e-05,\n",
      "         -7.9878e-05, -7.9878e-05],\n",
      "        [-1.5586e-04, -1.5586e-04, -1.5586e-04,  ..., -1.5586e-04,\n",
      "         -1.5586e-04, -1.5586e-04],\n",
      "        [-8.1364e-04, -8.1364e-04, -8.1364e-04,  ..., -8.1364e-04,\n",
      "         -8.1364e-04, -8.1364e-04],\n",
      "        ...,\n",
      "        [ 2.5929e-04,  2.5929e-04,  2.5929e-04,  ...,  2.5929e-04,\n",
      "          2.5929e-04,  2.5929e-04],\n",
      "        [ 5.8272e-04,  5.8272e-04,  5.8272e-04,  ...,  5.8272e-04,\n",
      "          5.8272e-04,  5.8272e-04],\n",
      "        [ 3.0631e-04,  3.0631e-04,  3.0631e-04,  ...,  3.0631e-04,\n",
      "          3.0631e-04,  3.0631e-04]])\n"
     ]
    }
   ],
   "source": [
    "print('Initial weights - ', model[0].weight)\n",
    "\n",
    "images, labels = next(iter(trainloader))\n",
    "images.resize_(64, 784)\n",
    "\n",
    "# Clear the gradients, do this because gradients are accumulated\n",
    "optimizer.zero_grad()\n",
    "\n",
    "# Forward pass, then backward pass, then update weights\n",
    "output = model(images)\n",
    "loss = criterion(output, labels)\n",
    "loss.backward()\n",
    "print('Gradient -', model[0].weight.grad)"
   ]
  },
  {
   "cell_type": "code",
   "execution_count": 36,
   "metadata": {},
   "outputs": [
    {
     "name": "stdout",
     "output_type": "stream",
     "text": [
      "Updated weights -  Parameter containing:\n",
      "tensor([[-0.0323, -0.0307,  0.0296,  ..., -0.0238, -0.0012, -0.0329],\n",
      "        [-0.0253, -0.0016, -0.0150,  ...,  0.0213, -0.0120, -0.0099],\n",
      "        [-0.0035,  0.0254, -0.0129,  ...,  0.0031, -0.0133,  0.0311],\n",
      "        ...,\n",
      "        [ 0.0335,  0.0222,  0.0085,  ..., -0.0325,  0.0024, -0.0258],\n",
      "        [-0.0261,  0.0246,  0.0108,  ...,  0.0294,  0.0327, -0.0047],\n",
      "        [ 0.0038, -0.0154,  0.0250,  ...,  0.0235, -0.0236,  0.0115]],\n",
      "       requires_grad=True)\n"
     ]
    }
   ],
   "source": [
    "# Take an update step and few the new weights\n",
    "optimizer.step()\n",
    "print('Updated weights - ', model[0].weight)"
   ]
  },
  {
   "cell_type": "markdown",
   "metadata": {},
   "source": [
    "### Training for real\n",
    "\n",
    "Now we'll put this algorithm into a loop so we can go through all the images. Some nomenclature, one pass through the entire dataset is called an *epoch*. So here we're going to loop through `trainloader` to get our training batches. For each batch, we'll doing a training pass where we calculate the loss, do a backwards pass, and update the weights.\n",
    "\n",
    ">**Exercise:** Implement the training pass for our network. If you implemented it correctly, you should see the training loss drop with each epoch."
   ]
  },
  {
   "cell_type": "code",
   "execution_count": 39,
   "metadata": {},
   "outputs": [
    {
     "name": "stdout",
     "output_type": "stream",
     "text": [
      "Training loss: 1.9236651951316068\n",
      "Training loss: 0.8320568867647318\n",
      "Training loss: 0.5089390641018781\n",
      "Training loss: 0.4195621460358471\n",
      "Training loss: 0.37898844531350045\n"
     ]
    }
   ],
   "source": [
    "## Your solution here\n",
    "\n",
    "model = nn.Sequential(nn.Linear(784, 128),\n",
    "                      nn.ReLU(),\n",
    "                      nn.Linear(128, 64),\n",
    "                      nn.ReLU(),\n",
    "                      nn.Linear(64, 10),\n",
    "                      nn.LogSoftmax(dim=1))\n",
    "\n",
    "criterion = nn.NLLLoss()\n",
    "optimizer = optim.SGD(model.parameters(), lr=0.003)\n",
    "\n",
    "epochs = 5\n",
    "for e in range(epochs):\n",
    "    running_loss = 0\n",
    "    for images, labels in trainloader:\n",
    "        # Flatten MNIST images into a 784 long vector\n",
    "        images = images.view(images.shape[0], -1)\n",
    "    \n",
    "        # Training pass\n",
    "        # the gradients, do this because gradients are accumulated\n",
    "        optimizer.zero_grad()\n",
    "        # Forward pass, then backward pass, then update weights\n",
    "        output = model(images)\n",
    "        loss = criterion(output, labels)\n",
    "        loss.backward()\n",
    "        optimizer.step()\n",
    "                \n",
    "        running_loss += loss.item()\n",
    "    else:\n",
    "        print(f\"Training loss: {running_loss/len(trainloader)}\")"
   ]
  },
  {
   "cell_type": "markdown",
   "metadata": {},
   "source": [
    "With the network trained, we can check out it's predictions."
   ]
  },
  {
   "cell_type": "code",
   "execution_count": 40,
   "metadata": {},
   "outputs": [
    {
     "data": {
      "image/png": "[encoded data removed]",
      "text/plain": [
       "<Figure size 432x648 with 2 Axes>"
      ]
     },
     "metadata": {},
     "output_type": "display_data"
    }
   ],
   "source": [
    "%matplotlib inline\n",
    "import helper\n",
    "\n",
    "images, labels = next(iter(trainloader))\n",
    "\n",
    "img = images[0].view(1, 784)\n",
    "# Turn off gradients to speed up this part\n",
    "with torch.no_grad():\n",
    "    logps = model(img)\n",
    "\n",
    "# Output of the network are log-probabilities, need to take exponential for probabilities\n",
    "ps = torch.exp(logps)\n",
    "helper.view_classify(img.view(1, 28, 28), ps)"
   ]
  },
  {
   "cell_type": "markdown",
   "metadata": {},
   "source": [
    "Now our network is brilliant. It can accurately predict the digits in our images. Next up you'll write the code for training a neural network on a more complex dataset."
   ]
  }
 ],
 "metadata": {
  "kernelspec": {
   "display_name": "Python 3",
   "language": "python",
   "name": "python3"
  },
  "language_info": {
   "codemirror_mode": {
    "name": "ipython",
    "version": 3
   },
   "file_extension": ".py",
   "mimetype": "text/x-python",
   "name": "python",
   "nbconvert_exporter": "python",
   "pygments_lexer": "ipython3",
   "version": "3.6.7"
  }
 },
 "nbformat": 4,
 "nbformat_minor": 2
}
