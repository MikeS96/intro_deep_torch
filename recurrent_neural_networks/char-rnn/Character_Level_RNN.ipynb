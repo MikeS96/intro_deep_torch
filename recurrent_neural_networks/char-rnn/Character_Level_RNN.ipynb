{
 "cells": [
  {
   "cell_type": "markdown",
   "metadata": {},
   "source": [
    "# Character-Level LSTM in PyTorch\n",
    "\n",
    "In this notebook, I'll construct a character-level LSTM with PyTorch. The network will train character by character on some text, then generate new text character by character. As an example, I will train on Anna Karenina. **This model will be able to generate new text based on the text from the book!**\n",
    "\n",
    "This network is based off of Andrej Karpathy's [post on RNNs](http://karpathy.github.io/2015/05/21/rnn-effectiveness/) and [implementation in Torch](https://github.com/karpathy/char-rnn). Below is the general architecture of the character-wise RNN.\n",
    "\n",
    "<img src=\"assets/charseq.jpeg\" width=\"500\">"
   ]
  },
  {
   "cell_type": "markdown",
   "metadata": {},
   "source": [
    "First let's load in our required resources for data loading and model creation."
   ]
  },
  {
   "cell_type": "code",
   "execution_count": 1,
   "metadata": {},
   "outputs": [],
   "source": [
    "import numpy as np\n",
    "import torch\n",
    "from torch import nn\n",
    "import torch.nn.functional as F"
   ]
  },
  {
   "cell_type": "markdown",
   "metadata": {},
   "source": [
    "## Load in Data\n",
    "\n",
    "Then, we'll load the Anna Karenina text file and convert it into integers for our network to use. "
   ]
  },
  {
   "cell_type": "code",
   "execution_count": 2,
   "metadata": {},
   "outputs": [],
   "source": [
    "# open text file and read in data as `text`\n",
    "with open('data/anna.txt', 'r') as f:\n",
    "    text = f.read()"
   ]
  },
  {
   "cell_type": "markdown",
   "metadata": {},
   "source": [
    "Let's check out the first 100 characters, make sure everything is peachy. According to the [American Book Review](http://americanbookreview.org/100bestlines.asp), this is the 6th best first line of a book ever."
   ]
  },
  {
   "cell_type": "code",
   "execution_count": 3,
   "metadata": {},
   "outputs": [
    {
     "data": {
      "text/plain": [
       "'Chapter 1\\n\\n\\nHappy families are all alike; every unhappy family is unhappy in its own\\nway.\\n\\nEverythin'"
      ]
     },
     "execution_count": 3,
     "metadata": {},
     "output_type": "execute_result"
    }
   ],
   "source": [
    "text[:100]"
   ]
  },
  {
   "cell_type": "markdown",
   "metadata": {},
   "source": [
    "### Tokenization\n",
    "\n",
    "In the cells, below, I'm creating a couple **dictionaries** to convert the characters to and from integers. Encoding the characters as integers makes it easier to use as input in the network."
   ]
  },
  {
   "cell_type": "code",
   "execution_count": 9,
   "metadata": {},
   "outputs": [],
   "source": [
    "# encode the text and map each character to an integer and vice versa\n",
    "\n",
    "# we create two dictionaries:\n",
    "# 1. int2char, which maps integers to characters\n",
    "# 2. char2int, which maps characters to unique integers\n",
    "chars = tuple(set(text))\n",
    "int2char = dict(enumerate(chars))\n",
    "char2int = {ch: ii for ii, ch in int2char.items()}\n",
    "\n",
    "# encode the text\n",
    "encoded = np.array([char2int[ch] for ch in text])"
   ]
  },
  {
   "cell_type": "markdown",
   "metadata": {},
   "source": [
    "And we can see those same characters from above, encoded as integers."
   ]
  },
  {
   "cell_type": "code",
   "execution_count": 10,
   "metadata": {},
   "outputs": [
    {
     "data": {
      "text/plain": [
       "array([33, 16, 29,  9, 64,  3, 23, 12, 15, 28, 28, 28, 67, 29,  9,  9, 41,\n",
       "       12, 44, 29, 24, 46, 27, 46,  3, 20, 12, 29, 23,  3, 12, 29, 27, 27,\n",
       "       12, 29, 27, 46,  7,  3, 14, 12,  3, 79,  3, 23, 41, 12, 18, 17, 16,\n",
       "       29,  9,  9, 41, 12, 44, 29, 24, 46, 27, 41, 12, 46, 20, 12, 18, 17,\n",
       "       16, 29,  9,  9, 41, 12, 46, 17, 12, 46, 64, 20, 12, 70, 54, 17, 28,\n",
       "       54, 29, 41, 39, 28, 28, 19, 79,  3, 23, 41, 64, 16, 46, 17])"
      ]
     },
     "execution_count": 10,
     "metadata": {},
     "output_type": "execute_result"
    }
   ],
   "source": [
    "encoded[:100]"
   ]
  },
  {
   "cell_type": "markdown",
   "metadata": {},
   "source": [
    "## Pre-processing the data\n",
    "\n",
    "As you can see in our char-RNN image above, our LSTM expects an input that is **one-hot encoded** meaning that each character is converted into an integer (via our created dictionary) and *then* converted into a column vector where only it's corresponding integer index will have the value of 1 and the rest of the vector will be filled with 0's. Since we're one-hot encoding the data, let's make a function to do that!\n"
   ]
  },
  {
   "cell_type": "code",
   "execution_count": 11,
   "metadata": {},
   "outputs": [],
   "source": [
    "def one_hot_encode(arr, n_labels):\n",
    "    \n",
    "    # Initialize the the encoded array\n",
    "    one_hot = np.zeros((arr.size, n_labels), dtype=np.float32)\n",
    "    \n",
    "    # Fill the appropriate elements with ones\n",
    "    one_hot[np.arange(one_hot.shape[0]), arr.flatten()] = 1.\n",
    "    \n",
    "    # Finally reshape it to get back to the original array\n",
    "    one_hot = one_hot.reshape((*arr.shape, n_labels))\n",
    "    \n",
    "    return one_hot"
   ]
  },
  {
   "cell_type": "code",
   "execution_count": 12,
   "metadata": {},
   "outputs": [
    {
     "name": "stdout",
     "output_type": "stream",
     "text": [
      "[[[0. 0. 0. 1. 0. 0. 0. 0.]\n",
      "  [0. 0. 0. 0. 0. 1. 0. 0.]\n",
      "  [0. 1. 0. 0. 0. 0. 0. 0.]]]\n"
     ]
    }
   ],
   "source": [
    "# check that the function works as expected\n",
    "test_seq = np.array([[3, 5, 1]])\n",
    "one_hot = one_hot_encode(test_seq, 8)\n",
    "\n",
    "print(one_hot)"
   ]
  },
  {
   "cell_type": "markdown",
   "metadata": {},
   "source": [
    "## Making training mini-batches\n",
    "\n",
    "\n",
    "To train on this data, we also want to create mini-batches for training. Remember that we want our batches to be multiple sequences of some desired number of sequence steps. Considering a simple example, our batches would look like this:\n",
    "\n",
    "<img src=\"assets/sequence_batching@1x.png\" width=500px>\n",
    "\n",
    "\n",
    "<br>\n",
    "\n",
    "In this example, we'll take the encoded characters (passed in as the `arr` parameter) and split them into multiple sequences, given by `batch_size`. Each of our sequences will be `seq_length` long.\n",
    "\n",
    "### Creating Batches\n",
    "\n",
    "**1. The first thing we need to do is discard some of the text so we only have completely full mini-batches. **\n",
    "\n",
    "Each batch contains $N \\times M$ characters, where $N$ is the batch size (the number of sequences in a batch) and $M$ is the seq_length or number of time steps in a sequence. Then, to get the total number of batches, $K$, that we can make from the array `arr`, you divide the length of `arr` by the number of characters per batch. Once you know the number of batches, you can get the total number of characters to keep from `arr`, $N * M * K$.\n",
    "\n",
    "**2. After that, we need to split `arr` into $N$ batches. ** \n",
    "\n",
    "You can do this using `arr.reshape(size)` where `size` is a tuple containing the dimensions sizes of the reshaped array. We know we want $N$ sequences in a batch, so let's make that the size of the first dimension. For the second dimension, you can use `-1` as a placeholder in the size, it'll fill up the array with the appropriate data for you. After this, you should have an array that is $N \\times (M * K)$.\n",
    "\n",
    "**3. Now that we have this array, we can iterate through it to get our mini-batches. **\n",
    "\n",
    "The idea is each batch is a $N \\times M$ window on the $N \\times (M * K)$ array. For each subsequent batch, the window moves over by `seq_length`. We also want to create both the input and target arrays. Remember that the targets are just the inputs shifted over by one character. The way I like to do this window is use `range` to take steps of size `n_steps` from $0$ to `arr.shape[1]`, the total number of tokens in each sequence. That way, the integers you get from `range` always point to the start of a batch, and each window is `seq_length` wide.\n",
    "\n",
    "> **TODO:** Write the code for creating batches in the function below. The exercises in this notebook _will not be easy_. I've provided a notebook with solutions alongside this notebook. If you get stuck, checkout the solutions. The most important thing is that you don't copy and paste the code into here, **type out the solution code yourself.**"
   ]
  },
  {
   "cell_type": "code",
   "execution_count": 22,
   "metadata": {},
   "outputs": [],
   "source": [
    "def get_batches(arr, batch_size, seq_length):\n",
    "    '''Create a generator that returns batches of size\n",
    "       batch_size x seq_length from arr.\n",
    "       \n",
    "       Arguments\n",
    "       ---------\n",
    "       arr: Array you want to make batches from\n",
    "       batch_size: Batch size, the number of sequences per batch\n",
    "       seq_length: Number of encoded chars in a sequence\n",
    "    '''\n",
    "    \n",
    "    batch_size_total = batch_size * seq_length\n",
    "    # total number of batches we can make\n",
    "    n_batches = len(arr)//batch_size_total\n",
    "    \n",
    "    # Keep only enough characters to make full batches\n",
    "    arr = arr[:n_batches * batch_size_total]\n",
    "    # Reshape into batch_size rows\n",
    "    arr = arr.reshape((batch_size, -1))\n",
    "    \n",
    "    # iterate through the array, one sequence at a time\n",
    "    for n in range(0, arr.shape[1], seq_length):\n",
    "        # The features\n",
    "        x = arr[:, n:n+seq_length]\n",
    "        # The targets, shifted by one\n",
    "        y = np.zeros_like(x)\n",
    "        try:\n",
    "            y[:, :-1], y[:, -1] = x[:, 1:], arr[:, n+seq_length]\n",
    "        except IndexError:\n",
    "            y[:, :-1], y[:, -1] = x[:, 1:], arr[:, 0]\n",
    "        yield x, y"
   ]
  },
  {
   "cell_type": "markdown",
   "metadata": {},
   "source": [
    "### Test Your Implementation\n",
    "\n",
    "Now I'll make some data sets and we can check out what's going on as we batch data. Here, as an example, I'm going to use a batch size of 8 and 50 sequence steps."
   ]
  },
  {
   "cell_type": "code",
   "execution_count": 29,
   "metadata": {},
   "outputs": [],
   "source": [
    "batches = get_batches(encoded, 8, 50)\n",
    "x, y = next(batches)"
   ]
  },
  {
   "cell_type": "code",
   "execution_count": 31,
   "metadata": {},
   "outputs": [
    {
     "name": "stdout",
     "output_type": "stream",
     "text": [
      "x\n",
      " [[33 16 29  9 64  3 23 12 15 28]\n",
      " [20 70 17 12 64 16 29 64 12 29]\n",
      " [ 3 17 77 12 70 23 12 29 12 44]\n",
      " [20 12 64 16  3 12 62 16 46  3]\n",
      " [12 20 29 54 12 16  3 23 12 64]\n",
      " [62 18 20 20 46 70 17 12 29 17]\n",
      " [12 73 17 17 29 12 16 29 77 12]\n",
      " [22 26 27 70 17 20  7 41 39 12]]\n",
      "\n",
      "y\n",
      " [[16 29  9 64  3 23 12 15 28 28]\n",
      " [70 17 12 64 16 29 64 12 29 64]\n",
      " [17 77 12 70 23 12 29 12 44 70]\n",
      " [12 64 16  3 12 62 16 46  3 44]\n",
      " [20 29 54 12 16  3 23 12 64  3]\n",
      " [18 20 20 46 70 17 12 29 17 77]\n",
      " [73 17 17 29 12 16 29 77 12 20]\n",
      " [26 27 70 17 20  7 41 39 12 10]]\n"
     ]
    }
   ],
   "source": [
    "# printing out the first 10 items in a sequence\n",
    "print('x\\n', x[:10, :10])\n",
    "print('\\ny\\n', y[:10, :10])"
   ]
  },
  {
   "cell_type": "markdown",
   "metadata": {},
   "source": [
    "If you implemented `get_batches` correctly, the above output should look something like \n",
    "```\n",
    "x\n",
    " [[25  8 60 11 45 27 28 73  1  2]\n",
    " [17  7 20 73 45  8 60 45 73 60]\n",
    " [27 20 80 73  7 28 73 60 73 65]\n",
    " [17 73 45  8 27 73 66  8 46 27]\n",
    " [73 17 60 12 73  8 27 28 73 45]\n",
    " [66 64 17 17 46  7 20 73 60 20]\n",
    " [73 76 20 20 60 73  8 60 80 73]\n",
    " [47 35 43  7 20 17 24 50 37 73]]\n",
    "\n",
    "y\n",
    " [[ 8 60 11 45 27 28 73  1  2  2]\n",
    " [ 7 20 73 45  8 60 45 73 60 45]\n",
    " [20 80 73  7 28 73 60 73 65  7]\n",
    " [73 45  8 27 73 66  8 46 27 65]\n",
    " [17 60 12 73  8 27 28 73 45 27]\n",
    " [64 17 17 46  7 20 73 60 20 80]\n",
    " [76 20 20 60 73  8 60 80 73 17]\n",
    " [35 43  7 20 17 24 50 37 73 36]]\n",
    " ```\n",
    " although the exact numbers may be different. Check to make sure the data is shifted over one step for `y`."
   ]
  },
  {
   "cell_type": "markdown",
   "metadata": {},
   "source": [
    "---\n",
    "## Defining the network with PyTorch\n",
    "\n",
    "Below is where you'll define the network.\n",
    "\n",
    "<img src=\"assets/charRNN.png\" width=500px>\n",
    "\n",
    "Next, you'll use PyTorch to define the architecture of the network. We start by defining the layers and operations we want. Then, define a method for the forward pass. You've also been given a method for predicting characters."
   ]
  },
  {
   "cell_type": "markdown",
   "metadata": {},
   "source": [
    "### Model Structure\n",
    "\n",
    "In `__init__` the suggested structure is as follows:\n",
    "* Create and store the necessary dictionaries (this has been done for you)\n",
    "* Define an LSTM layer that takes as params: an input size (the number of characters), a hidden layer size `n_hidden`, a number of layers `n_layers`, a dropout probability `drop_prob`, and a batch_first boolean (True, since we are batching)\n",
    "* Define a dropout layer with `drop_prob`\n",
    "* Define a fully-connected layer with params: input size `n_hidden` and output size (the number of characters)\n",
    "* Finally, initialize the weights (again, this has been given)\n",
    "\n",
    "Note that some parameters have been named and given in the `__init__` function, and we use them and store them by doing something like `self.drop_prob = drop_prob`."
   ]
  },
  {
   "cell_type": "markdown",
   "metadata": {},
   "source": [
    "---\n",
    "### LSTM Inputs/Outputs\n",
    "\n",
    "You can create a basic [LSTM layer](https://pytorch.org/docs/stable/nn.html#lstm) as follows\n",
    "\n",
    "```python\n",
    "self.lstm = nn.LSTM(input_size, n_hidden, n_layers, \n",
    "                            dropout=drop_prob, batch_first=True)\n",
    "```\n",
    "\n",
    "where `input_size` is the number of characters this cell expects to see as sequential input, and `n_hidden` is the number of units in the hidden layers in the cell. And we can add dropout by adding a dropout parameter with a specified probability; this will automatically add dropout to the inputs or outputs. Finally, in the `forward` function, we can stack up the LSTM cells into layers using `.view`. With this, you pass in a list of cells and it will send the output of one cell into the next cell.\n",
    "\n",
    "We also need to create an initial hidden state of all zeros. This is done like so\n",
    "\n",
    "```python\n",
    "self.init_hidden()\n",
    "```"
   ]
  },
  {
   "cell_type": "code",
   "execution_count": 33,
   "metadata": {},
   "outputs": [
    {
     "name": "stdout",
     "output_type": "stream",
     "text": [
      "Training on GPU!\n"
     ]
    }
   ],
   "source": [
    "# check if GPU is available\n",
    "train_on_gpu = torch.cuda.is_available()\n",
    "if(train_on_gpu):\n",
    "    print('Training on GPU!')\n",
    "else: \n",
    "    print('No GPU available, training on CPU; consider making n_epochs very small.')"
   ]
  },
  {
   "cell_type": "code",
   "execution_count": 34,
   "metadata": {},
   "outputs": [],
   "source": [
    "class CharRNN(nn.Module):\n",
    "    \n",
    "    def __init__(self, tokens, n_hidden=256, n_layers=2,\n",
    "                               drop_prob=0.5, lr=0.001):\n",
    "        super().__init__()\n",
    "        self.drop_prob = drop_prob\n",
    "        self.n_layers = n_layers\n",
    "        self.n_hidden = n_hidden\n",
    "        self.lr = lr\n",
    "        \n",
    "        # creating character dictionaries\n",
    "        self.chars = tokens\n",
    "        self.int2char = dict(enumerate(self.chars))\n",
    "        self.char2int = {ch: ii for ii, ch in self.int2char.items()}\n",
    "        \n",
    "        ## define the LSTM\n",
    "        self.lstm = nn.LSTM(len(self.chars), n_hidden, n_layers, \n",
    "                            dropout=drop_prob, batch_first=True)\n",
    "        \n",
    "        ## define a dropout layer\n",
    "        self.dropout = nn.Dropout(drop_prob)\n",
    "        \n",
    "        ## define the final, fully-connected output layer\n",
    "        self.fc = nn.Linear(n_hidden, len(self.chars))\n",
    "      \n",
    "    \n",
    "    def forward(self, x, hidden):\n",
    "        ''' Forward pass through the network. \n",
    "            These inputs are x, and the hidden/cell state `hidden`. '''\n",
    "                \n",
    "        ## Get the outputs and the new hidden state from the lstm\n",
    "        r_output, hidden = self.lstm(x, hidden)\n",
    "        \n",
    "        ## pass through a dropout layer\n",
    "        out = self.dropout(r_output)\n",
    "        \n",
    "        # Stack up LSTM outputs using view\n",
    "        # you may need to use contiguous to reshape the output\n",
    "        out = out.contiguous().view(-1, self.n_hidden)\n",
    "        \n",
    "        ## put x through the fully-connected layer\n",
    "        out = self.fc(out)\n",
    "        \n",
    "        # return the final output and the hidden state\n",
    "        return out, hidden\n",
    "    \n",
    "    \n",
    "    def init_hidden(self, batch_size):\n",
    "        ''' Initializes hidden state '''\n",
    "        # Create two new tensors with sizes n_layers x batch_size x n_hidden,\n",
    "        # initialized to zero, for hidden state and cell state of LSTM\n",
    "        weight = next(self.parameters()).data\n",
    "        \n",
    "        if (train_on_gpu):\n",
    "            hidden = (weight.new(self.n_layers, batch_size, self.n_hidden).zero_().cuda(),\n",
    "                  weight.new(self.n_layers, batch_size, self.n_hidden).zero_().cuda())\n",
    "        else:\n",
    "            hidden = (weight.new(self.n_layers, batch_size, self.n_hidden).zero_(),\n",
    "                      weight.new(self.n_layers, batch_size, self.n_hidden).zero_())\n",
    "        \n",
    "        return hidden\n",
    "        "
   ]
  },
  {
   "cell_type": "markdown",
   "metadata": {},
   "source": [
    "## Time to train\n",
    "\n",
    "The train function gives us the ability to set the number of epochs, the learning rate, and other parameters.\n",
    "\n",
    "Below we're using an Adam optimizer and cross entropy loss since we are looking at character class scores as output. We calculate the loss and perform backpropagation, as usual!\n",
    "\n",
    "A couple of details about training: \n",
    ">* Within the batch loop, we detach the hidden state from its history; this time setting it equal to a new *tuple* variable because an LSTM has a hidden state that is a tuple of the hidden and cell states.\n",
    "* We use [`clip_grad_norm_`](https://pytorch.org/docs/stable/_modules/torch/nn/utils/clip_grad.html) to help prevent exploding gradients."
   ]
  },
  {
   "cell_type": "code",
   "execution_count": 35,
   "metadata": {},
   "outputs": [],
   "source": [
    "def train(net, data, epochs=10, batch_size=10, seq_length=50, lr=0.001, clip=5, val_frac=0.1, print_every=10):\n",
    "    ''' Training a network \n",
    "    \n",
    "        Arguments\n",
    "        ---------\n",
    "        \n",
    "        net: CharRNN network\n",
    "        data: text data to train the network\n",
    "        epochs: Number of epochs to train\n",
    "        batch_size: Number of mini-sequences per mini-batch, aka batch size\n",
    "        seq_length: Number of character steps per mini-batch\n",
    "        lr: learning rate\n",
    "        clip: gradient clipping\n",
    "        val_frac: Fraction of data to hold out for validation\n",
    "        print_every: Number of steps for printing training and validation loss\n",
    "    \n",
    "    '''\n",
    "    net.train()\n",
    "    \n",
    "    opt = torch.optim.Adam(net.parameters(), lr=lr)\n",
    "    criterion = nn.CrossEntropyLoss()\n",
    "    \n",
    "    # create training and validation data\n",
    "    val_idx = int(len(data)*(1-val_frac))\n",
    "    data, val_data = data[:val_idx], data[val_idx:]\n",
    "    \n",
    "    if(train_on_gpu):\n",
    "        net.cuda()\n",
    "    \n",
    "    counter = 0\n",
    "    n_chars = len(net.chars)\n",
    "    for e in range(epochs):\n",
    "        # initialize hidden state\n",
    "        h = net.init_hidden(batch_size)\n",
    "        \n",
    "        for x, y in get_batches(data, batch_size, seq_length):\n",
    "            counter += 1\n",
    "            \n",
    "            # One-hot encode our data and make them Torch tensors\n",
    "            x = one_hot_encode(x, n_chars)\n",
    "            inputs, targets = torch.from_numpy(x), torch.from_numpy(y)\n",
    "            \n",
    "            if(train_on_gpu):\n",
    "                inputs, targets = inputs.cuda(), targets.cuda()\n",
    "\n",
    "            # Creating new variables for the hidden state, otherwise\n",
    "            # we'd backprop through the entire training history\n",
    "            h = tuple([each.data for each in h])\n",
    "\n",
    "            # zero accumulated gradients\n",
    "            net.zero_grad()\n",
    "            \n",
    "            # get the output from the model\n",
    "            output, h = net(inputs, h)\n",
    "            \n",
    "            # calculate the loss and perform backprop\n",
    "            loss = criterion(output, targets.view(batch_size*seq_length).long())\n",
    "            loss.backward()\n",
    "            # `clip_grad_norm` helps prevent the exploding gradient problem in RNNs / LSTMs.\n",
    "            nn.utils.clip_grad_norm_(net.parameters(), clip)\n",
    "            opt.step()\n",
    "            \n",
    "            # loss stats\n",
    "            if counter % print_every == 0:\n",
    "                # Get validation loss\n",
    "                val_h = net.init_hidden(batch_size)\n",
    "                val_losses = []\n",
    "                net.eval()\n",
    "                for x, y in get_batches(val_data, batch_size, seq_length):\n",
    "                    # One-hot encode our data and make them Torch tensors\n",
    "                    x = one_hot_encode(x, n_chars)\n",
    "                    x, y = torch.from_numpy(x), torch.from_numpy(y)\n",
    "                    \n",
    "                    # Creating new variables for the hidden state, otherwise\n",
    "                    # we'd backprop through the entire training history\n",
    "                    val_h = tuple([each.data for each in val_h])\n",
    "                    \n",
    "                    inputs, targets = x, y\n",
    "                    if(train_on_gpu):\n",
    "                        inputs, targets = inputs.cuda(), targets.cuda()\n",
    "\n",
    "                    output, val_h = net(inputs, val_h)\n",
    "                    val_loss = criterion(output, targets.view(batch_size*seq_length).long())\n",
    "                \n",
    "                    val_losses.append(val_loss.item())\n",
    "                \n",
    "                net.train() # reset to train mode after iterationg through validation data\n",
    "                \n",
    "                print(\"Epoch: {}/{}...\".format(e+1, epochs),\n",
    "                      \"Step: {}...\".format(counter),\n",
    "                      \"Loss: {:.4f}...\".format(loss.item()),\n",
    "                      \"Val Loss: {:.4f}\".format(np.mean(val_losses)))"
   ]
  },
  {
   "cell_type": "markdown",
   "metadata": {},
   "source": [
    "## Instantiating the model\n",
    "\n",
    "Now we can actually train the network. First we'll create the network itself, with some given hyperparameters. Then, define the mini-batches sizes, and start training!"
   ]
  },
  {
   "cell_type": "code",
   "execution_count": 36,
   "metadata": {},
   "outputs": [
    {
     "name": "stdout",
     "output_type": "stream",
     "text": [
      "CharRNN(\n",
      "  (lstm): LSTM(83, 512, num_layers=2, batch_first=True, dropout=0.5)\n",
      "  (dropout): Dropout(p=0.5)\n",
      "  (fc): Linear(in_features=512, out_features=83, bias=True)\n",
      ")\n"
     ]
    }
   ],
   "source": [
    "# define and print the net\n",
    "n_hidden=512\n",
    "n_layers=2\n",
    "\n",
    "net = CharRNN(chars, n_hidden, n_layers)\n",
    "print(net)"
   ]
  },
  {
   "cell_type": "markdown",
   "metadata": {},
   "source": [
    "### Set your training hyperparameters!"
   ]
  },
  {
   "cell_type": "code",
   "execution_count": 37,
   "metadata": {
    "scrolled": true
   },
   "outputs": [
    {
     "name": "stdout",
     "output_type": "stream",
     "text": [
      "Epoch: 1/20... Step: 10... Loss: 3.2374... Val Loss: 3.1777\n",
      "Epoch: 1/20... Step: 20... Loss: 3.1380... Val Loss: 3.1287\n",
      "Epoch: 1/20... Step: 30... Loss: 3.1387... Val Loss: 3.1199\n",
      "Epoch: 1/20... Step: 40... Loss: 3.1116... Val Loss: 3.1180\n",
      "Epoch: 1/20... Step: 50... Loss: 3.1390... Val Loss: 3.1157\n",
      "Epoch: 1/20... Step: 60... Loss: 3.1141... Val Loss: 3.1114\n",
      "Epoch: 1/20... Step: 70... Loss: 3.0978... Val Loss: 3.1034\n",
      "Epoch: 1/20... Step: 80... Loss: 3.0982... Val Loss: 3.0839\n",
      "Epoch: 1/20... Step: 90... Loss: 3.0638... Val Loss: 3.0413\n",
      "Epoch: 1/20... Step: 100... Loss: 3.0039... Val Loss: 2.9778\n",
      "Epoch: 1/20... Step: 110... Loss: 2.8988... Val Loss: 2.8830\n",
      "Epoch: 1/20... Step: 120... Loss: 2.7872... Val Loss: 2.7963\n",
      "Epoch: 1/20... Step: 130... Loss: 2.7268... Val Loss: 2.6832\n",
      "Epoch: 2/20... Step: 140... Loss: 2.6217... Val Loss: 2.5655\n",
      "Epoch: 2/20... Step: 150... Loss: 2.5397... Val Loss: 2.4941\n",
      "Epoch: 2/20... Step: 160... Loss: 2.4771... Val Loss: 2.4500\n",
      "Epoch: 2/20... Step: 170... Loss: 2.4178... Val Loss: 2.4146\n",
      "Epoch: 2/20... Step: 180... Loss: 2.3959... Val Loss: 2.3714\n",
      "Epoch: 2/20... Step: 190... Loss: 2.3445... Val Loss: 2.3436\n",
      "Epoch: 2/20... Step: 200... Loss: 2.3293... Val Loss: 2.3101\n",
      "Epoch: 2/20... Step: 210... Loss: 2.3005... Val Loss: 2.2753\n",
      "Epoch: 2/20... Step: 220... Loss: 2.2595... Val Loss: 2.2464\n",
      "Epoch: 2/20... Step: 230... Loss: 2.2550... Val Loss: 2.2274\n",
      "Epoch: 2/20... Step: 240... Loss: 2.2312... Val Loss: 2.1947\n",
      "Epoch: 2/20... Step: 250... Loss: 2.1602... Val Loss: 2.1684\n",
      "Epoch: 2/20... Step: 260... Loss: 2.1358... Val Loss: 2.1389\n",
      "Epoch: 2/20... Step: 270... Loss: 2.1484... Val Loss: 2.1234\n",
      "Epoch: 3/20... Step: 280... Loss: 2.1520... Val Loss: 2.1014\n",
      "Epoch: 3/20... Step: 290... Loss: 2.1158... Val Loss: 2.0728\n",
      "Epoch: 3/20... Step: 300... Loss: 2.0766... Val Loss: 2.0557\n",
      "Epoch: 3/20... Step: 310... Loss: 2.0576... Val Loss: 2.0380\n",
      "Epoch: 3/20... Step: 320... Loss: 2.0273... Val Loss: 2.0170\n",
      "Epoch: 3/20... Step: 330... Loss: 1.9979... Val Loss: 2.0036\n",
      "Epoch: 3/20... Step: 340... Loss: 2.0245... Val Loss: 1.9818\n",
      "Epoch: 3/20... Step: 350... Loss: 1.9971... Val Loss: 1.9728\n",
      "Epoch: 3/20... Step: 360... Loss: 1.9340... Val Loss: 1.9494\n",
      "Epoch: 3/20... Step: 370... Loss: 1.9576... Val Loss: 1.9367\n",
      "Epoch: 3/20... Step: 380... Loss: 1.9457... Val Loss: 1.9171\n",
      "Epoch: 3/20... Step: 390... Loss: 1.9157... Val Loss: 1.9022\n",
      "Epoch: 3/20... Step: 400... Loss: 1.8829... Val Loss: 1.8878\n",
      "Epoch: 3/20... Step: 410... Loss: 1.9005... Val Loss: 1.8776\n",
      "Epoch: 4/20... Step: 420... Loss: 1.8948... Val Loss: 1.8618\n",
      "Epoch: 4/20... Step: 430... Loss: 1.8866... Val Loss: 1.8475\n",
      "Epoch: 4/20... Step: 440... Loss: 1.8700... Val Loss: 1.8390\n",
      "Epoch: 4/20... Step: 450... Loss: 1.8056... Val Loss: 1.8212\n",
      "Epoch: 4/20... Step: 460... Loss: 1.7978... Val Loss: 1.8112\n",
      "Epoch: 4/20... Step: 470... Loss: 1.8280... Val Loss: 1.8031\n",
      "Epoch: 4/20... Step: 480... Loss: 1.8076... Val Loss: 1.7874\n",
      "Epoch: 4/20... Step: 490... Loss: 1.8162... Val Loss: 1.7763\n",
      "Epoch: 4/20... Step: 500... Loss: 1.8062... Val Loss: 1.7664\n",
      "Epoch: 4/20... Step: 510... Loss: 1.7778... Val Loss: 1.7553\n",
      "Epoch: 4/20... Step: 520... Loss: 1.7979... Val Loss: 1.7452\n",
      "Epoch: 4/20... Step: 530... Loss: 1.7640... Val Loss: 1.7380\n",
      "Epoch: 4/20... Step: 540... Loss: 1.7245... Val Loss: 1.7266\n",
      "Epoch: 4/20... Step: 550... Loss: 1.7641... Val Loss: 1.7216\n",
      "Epoch: 5/20... Step: 560... Loss: 1.7337... Val Loss: 1.7163\n",
      "Epoch: 5/20... Step: 570... Loss: 1.7229... Val Loss: 1.7032\n",
      "Epoch: 5/20... Step: 580... Loss: 1.7084... Val Loss: 1.6942\n",
      "Epoch: 5/20... Step: 590... Loss: 1.7073... Val Loss: 1.6822\n",
      "Epoch: 5/20... Step: 600... Loss: 1.6932... Val Loss: 1.6832\n",
      "Epoch: 5/20... Step: 610... Loss: 1.6766... Val Loss: 1.6752\n",
      "Epoch: 5/20... Step: 620... Loss: 1.6795... Val Loss: 1.6637\n",
      "Epoch: 5/20... Step: 630... Loss: 1.6952... Val Loss: 1.6582\n",
      "Epoch: 5/20... Step: 640... Loss: 1.6714... Val Loss: 1.6511\n",
      "Epoch: 5/20... Step: 650... Loss: 1.6590... Val Loss: 1.6429\n",
      "Epoch: 5/20... Step: 660... Loss: 1.6346... Val Loss: 1.6345\n",
      "Epoch: 5/20... Step: 670... Loss: 1.6509... Val Loss: 1.6306\n",
      "Epoch: 5/20... Step: 680... Loss: 1.6519... Val Loss: 1.6260\n",
      "Epoch: 5/20... Step: 690... Loss: 1.6345... Val Loss: 1.6219\n",
      "Epoch: 6/20... Step: 700... Loss: 1.6346... Val Loss: 1.6155\n",
      "Epoch: 6/20... Step: 710... Loss: 1.6203... Val Loss: 1.6108\n",
      "Epoch: 6/20... Step: 720... Loss: 1.6095... Val Loss: 1.6034\n",
      "Epoch: 6/20... Step: 730... Loss: 1.6291... Val Loss: 1.5977\n",
      "Epoch: 6/20... Step: 740... Loss: 1.5894... Val Loss: 1.5931\n",
      "Epoch: 6/20... Step: 750... Loss: 1.5750... Val Loss: 1.5904\n",
      "Epoch: 6/20... Step: 760... Loss: 1.6093... Val Loss: 1.5858\n",
      "Epoch: 6/20... Step: 770... Loss: 1.5972... Val Loss: 1.5819\n",
      "Epoch: 6/20... Step: 780... Loss: 1.5786... Val Loss: 1.5706\n",
      "Epoch: 6/20... Step: 790... Loss: 1.5598... Val Loss: 1.5645\n",
      "Epoch: 6/20... Step: 800... Loss: 1.5763... Val Loss: 1.5614\n",
      "Epoch: 6/20... Step: 810... Loss: 1.5563... Val Loss: 1.5592\n",
      "Epoch: 6/20... Step: 820... Loss: 1.5316... Val Loss: 1.5555\n",
      "Epoch: 6/20... Step: 830... Loss: 1.5772... Val Loss: 1.5512\n",
      "Epoch: 7/20... Step: 840... Loss: 1.5279... Val Loss: 1.5455\n",
      "Epoch: 7/20... Step: 850... Loss: 1.5425... Val Loss: 1.5418\n",
      "Epoch: 7/20... Step: 860... Loss: 1.5258... Val Loss: 1.5329\n",
      "Epoch: 7/20... Step: 870... Loss: 1.5359... Val Loss: 1.5326\n",
      "Epoch: 7/20... Step: 880... Loss: 1.5445... Val Loss: 1.5326\n",
      "Epoch: 7/20... Step: 890... Loss: 1.5377... Val Loss: 1.5236\n",
      "Epoch: 7/20... Step: 900... Loss: 1.5181... Val Loss: 1.5241\n",
      "Epoch: 7/20... Step: 910... Loss: 1.4968... Val Loss: 1.5195\n",
      "Epoch: 7/20... Step: 920... Loss: 1.5165... Val Loss: 1.5143\n",
      "Epoch: 7/20... Step: 930... Loss: 1.5099... Val Loss: 1.5109\n",
      "Epoch: 7/20... Step: 940... Loss: 1.5055... Val Loss: 1.5087\n",
      "Epoch: 7/20... Step: 950... Loss: 1.5188... Val Loss: 1.5013\n",
      "Epoch: 7/20... Step: 960... Loss: 1.5142... Val Loss: 1.4984\n",
      "Epoch: 7/20... Step: 970... Loss: 1.5272... Val Loss: 1.4963\n",
      "Epoch: 8/20... Step: 980... Loss: 1.4868... Val Loss: 1.4962\n",
      "Epoch: 8/20... Step: 990... Loss: 1.4950... Val Loss: 1.4899\n",
      "Epoch: 8/20... Step: 1000... Loss: 1.4836... Val Loss: 1.4835\n",
      "Epoch: 8/20... Step: 1010... Loss: 1.5198... Val Loss: 1.4835\n",
      "Epoch: 8/20... Step: 1020... Loss: 1.4887... Val Loss: 1.4839\n",
      "Epoch: 8/20... Step: 1030... Loss: 1.4724... Val Loss: 1.4801\n",
      "Epoch: 8/20... Step: 1040... Loss: 1.4925... Val Loss: 1.4815\n",
      "Epoch: 8/20... Step: 1050... Loss: 1.4659... Val Loss: 1.4766\n",
      "Epoch: 8/20... Step: 1060... Loss: 1.4670... Val Loss: 1.4668\n",
      "Epoch: 8/20... Step: 1070... Loss: 1.4721... Val Loss: 1.4665\n",
      "Epoch: 8/20... Step: 1080... Loss: 1.4622... Val Loss: 1.4652\n",
      "Epoch: 8/20... Step: 1090... Loss: 1.4646... Val Loss: 1.4601\n",
      "Epoch: 8/20... Step: 1100... Loss: 1.4529... Val Loss: 1.4592\n",
      "Epoch: 8/20... Step: 1110... Loss: 1.4607... Val Loss: 1.4583\n",
      "Epoch: 9/20... Step: 1120... Loss: 1.4683... Val Loss: 1.4575\n",
      "Epoch: 9/20... Step: 1130... Loss: 1.4553... Val Loss: 1.4528\n",
      "Epoch: 9/20... Step: 1140... Loss: 1.4606... Val Loss: 1.4459\n",
      "Epoch: 9/20... Step: 1150... Loss: 1.4750... Val Loss: 1.4507\n",
      "Epoch: 9/20... Step: 1160... Loss: 1.4278... Val Loss: 1.4472\n",
      "Epoch: 9/20... Step: 1170... Loss: 1.4380... Val Loss: 1.4430\n",
      "Epoch: 9/20... Step: 1180... Loss: 1.4289... Val Loss: 1.4459\n",
      "Epoch: 9/20... Step: 1190... Loss: 1.4577... Val Loss: 1.4407\n",
      "Epoch: 9/20... Step: 1200... Loss: 1.4089... Val Loss: 1.4352\n",
      "Epoch: 9/20... Step: 1210... Loss: 1.4226... Val Loss: 1.4334\n",
      "Epoch: 9/20... Step: 1220... Loss: 1.4193... Val Loss: 1.4302\n",
      "Epoch: 9/20... Step: 1230... Loss: 1.4039... Val Loss: 1.4284\n",
      "Epoch: 9/20... Step: 1240... Loss: 1.4137... Val Loss: 1.4299\n",
      "Epoch: 9/20... Step: 1250... Loss: 1.4226... Val Loss: 1.4249\n",
      "Epoch: 10/20... Step: 1260... Loss: 1.4283... Val Loss: 1.4260\n",
      "Epoch: 10/20... Step: 1270... Loss: 1.4129... Val Loss: 1.4245\n",
      "Epoch: 10/20... Step: 1280... Loss: 1.4361... Val Loss: 1.4196\n",
      "Epoch: 10/20... Step: 1290... Loss: 1.4283... Val Loss: 1.4218\n",
      "Epoch: 10/20... Step: 1300... Loss: 1.4060... Val Loss: 1.4191\n",
      "Epoch: 10/20... Step: 1310... Loss: 1.4126... Val Loss: 1.4154\n",
      "Epoch: 10/20... Step: 1320... Loss: 1.3870... Val Loss: 1.4169\n",
      "Epoch: 10/20... Step: 1330... Loss: 1.3898... Val Loss: 1.4146\n",
      "Epoch: 10/20... Step: 1340... Loss: 1.3808... Val Loss: 1.4091\n"
     ]
    },
    {
     "name": "stdout",
     "output_type": "stream",
     "text": [
      "Epoch: 10/20... Step: 1350... Loss: 1.3769... Val Loss: 1.4095\n",
      "Epoch: 10/20... Step: 1360... Loss: 1.3730... Val Loss: 1.4065\n",
      "Epoch: 10/20... Step: 1370... Loss: 1.3738... Val Loss: 1.4052\n",
      "Epoch: 10/20... Step: 1380... Loss: 1.3989... Val Loss: 1.4036\n",
      "Epoch: 10/20... Step: 1390... Loss: 1.4149... Val Loss: 1.4023\n",
      "Epoch: 11/20... Step: 1400... Loss: 1.4084... Val Loss: 1.4010\n",
      "Epoch: 11/20... Step: 1410... Loss: 1.4338... Val Loss: 1.3975\n",
      "Epoch: 11/20... Step: 1420... Loss: 1.4238... Val Loss: 1.3917\n",
      "Epoch: 11/20... Step: 1430... Loss: 1.3781... Val Loss: 1.3961\n",
      "Epoch: 11/20... Step: 1440... Loss: 1.4051... Val Loss: 1.3967\n",
      "Epoch: 11/20... Step: 1450... Loss: 1.3371... Val Loss: 1.3907\n",
      "Epoch: 11/20... Step: 1460... Loss: 1.3647... Val Loss: 1.3955\n",
      "Epoch: 11/20... Step: 1470... Loss: 1.3487... Val Loss: 1.3912\n",
      "Epoch: 11/20... Step: 1480... Loss: 1.3704... Val Loss: 1.3868\n",
      "Epoch: 11/20... Step: 1490... Loss: 1.3644... Val Loss: 1.3861\n",
      "Epoch: 11/20... Step: 1500... Loss: 1.3571... Val Loss: 1.3859\n",
      "Epoch: 11/20... Step: 1510... Loss: 1.3341... Val Loss: 1.3859\n",
      "Epoch: 11/20... Step: 1520... Loss: 1.3718... Val Loss: 1.3844\n",
      "Epoch: 12/20... Step: 1530... Loss: 1.4247... Val Loss: 1.3828\n",
      "Epoch: 12/20... Step: 1540... Loss: 1.3834... Val Loss: 1.3791\n",
      "Epoch: 12/20... Step: 1550... Loss: 1.3803... Val Loss: 1.3769\n",
      "Epoch: 12/20... Step: 1560... Loss: 1.3880... Val Loss: 1.3751\n",
      "Epoch: 12/20... Step: 1570... Loss: 1.3403... Val Loss: 1.3791\n",
      "Epoch: 12/20... Step: 1580... Loss: 1.3150... Val Loss: 1.3769\n",
      "Epoch: 12/20... Step: 1590... Loss: 1.3231... Val Loss: 1.3736\n",
      "Epoch: 12/20... Step: 1600... Loss: 1.3418... Val Loss: 1.3740\n",
      "Epoch: 12/20... Step: 1610... Loss: 1.3364... Val Loss: 1.3739\n",
      "Epoch: 12/20... Step: 1620... Loss: 1.3323... Val Loss: 1.3698\n",
      "Epoch: 12/20... Step: 1630... Loss: 1.3539... Val Loss: 1.3687\n",
      "Epoch: 12/20... Step: 1640... Loss: 1.3365... Val Loss: 1.3727\n",
      "Epoch: 12/20... Step: 1650... Loss: 1.3094... Val Loss: 1.3686\n",
      "Epoch: 12/20... Step: 1660... Loss: 1.3600... Val Loss: 1.3672\n",
      "Epoch: 13/20... Step: 1670... Loss: 1.3385... Val Loss: 1.3684\n",
      "Epoch: 13/20... Step: 1680... Loss: 1.3482... Val Loss: 1.3626\n",
      "Epoch: 13/20... Step: 1690... Loss: 1.3282... Val Loss: 1.3597\n",
      "Epoch: 13/20... Step: 1700... Loss: 1.3232... Val Loss: 1.3581\n",
      "Epoch: 13/20... Step: 1710... Loss: 1.3030... Val Loss: 1.3597\n",
      "Epoch: 13/20... Step: 1720... Loss: 1.3135... Val Loss: 1.3646\n",
      "Epoch: 13/20... Step: 1730... Loss: 1.3473... Val Loss: 1.3568\n",
      "Epoch: 13/20... Step: 1740... Loss: 1.3228... Val Loss: 1.3591\n",
      "Epoch: 13/20... Step: 1750... Loss: 1.2889... Val Loss: 1.3580\n",
      "Epoch: 13/20... Step: 1760... Loss: 1.3209... Val Loss: 1.3559\n",
      "Epoch: 13/20... Step: 1770... Loss: 1.3381... Val Loss: 1.3532\n",
      "Epoch: 13/20... Step: 1780... Loss: 1.3007... Val Loss: 1.3534\n",
      "Epoch: 13/20... Step: 1790... Loss: 1.2976... Val Loss: 1.3508\n",
      "Epoch: 13/20... Step: 1800... Loss: 1.3219... Val Loss: 1.3524\n",
      "Epoch: 14/20... Step: 1810... Loss: 1.3271... Val Loss: 1.3523\n",
      "Epoch: 14/20... Step: 1820... Loss: 1.3096... Val Loss: 1.3481\n",
      "Epoch: 14/20... Step: 1830... Loss: 1.3301... Val Loss: 1.3450\n",
      "Epoch: 14/20... Step: 1840... Loss: 1.2805... Val Loss: 1.3482\n",
      "Epoch: 14/20... Step: 1850... Loss: 1.2586... Val Loss: 1.3493\n",
      "Epoch: 14/20... Step: 1860... Loss: 1.3293... Val Loss: 1.3513\n",
      "Epoch: 14/20... Step: 1870... Loss: 1.3307... Val Loss: 1.3441\n",
      "Epoch: 14/20... Step: 1880... Loss: 1.3234... Val Loss: 1.3435\n",
      "Epoch: 14/20... Step: 1890... Loss: 1.3321... Val Loss: 1.3450\n",
      "Epoch: 14/20... Step: 1900... Loss: 1.3130... Val Loss: 1.3453\n",
      "Epoch: 14/20... Step: 1910... Loss: 1.3131... Val Loss: 1.3442\n",
      "Epoch: 14/20... Step: 1920... Loss: 1.2978... Val Loss: 1.3409\n",
      "Epoch: 14/20... Step: 1930... Loss: 1.2664... Val Loss: 1.3410\n",
      "Epoch: 14/20... Step: 1940... Loss: 1.3243... Val Loss: 1.3405\n",
      "Epoch: 15/20... Step: 1950... Loss: 1.3029... Val Loss: 1.3455\n",
      "Epoch: 15/20... Step: 1960... Loss: 1.2959... Val Loss: 1.3357\n",
      "Epoch: 15/20... Step: 1970... Loss: 1.2940... Val Loss: 1.3334\n",
      "Epoch: 15/20... Step: 1980... Loss: 1.2905... Val Loss: 1.3387\n",
      "Epoch: 15/20... Step: 1990... Loss: 1.2864... Val Loss: 1.3352\n",
      "Epoch: 15/20... Step: 2000... Loss: 1.2674... Val Loss: 1.3317\n",
      "Epoch: 15/20... Step: 2010... Loss: 1.2929... Val Loss: 1.3312\n",
      "Epoch: 15/20... Step: 2020... Loss: 1.3068... Val Loss: 1.3367\n",
      "Epoch: 15/20... Step: 2030... Loss: 1.2776... Val Loss: 1.3328\n",
      "Epoch: 15/20... Step: 2040... Loss: 1.2936... Val Loss: 1.3328\n",
      "Epoch: 15/20... Step: 2050... Loss: 1.2766... Val Loss: 1.3323\n",
      "Epoch: 15/20... Step: 2060... Loss: 1.2836... Val Loss: 1.3309\n",
      "Epoch: 15/20... Step: 2070... Loss: 1.2936... Val Loss: 1.3277\n",
      "Epoch: 15/20... Step: 2080... Loss: 1.2926... Val Loss: 1.3306\n",
      "Epoch: 16/20... Step: 2090... Loss: 1.2858... Val Loss: 1.3306\n",
      "Epoch: 16/20... Step: 2100... Loss: 1.2728... Val Loss: 1.3252\n",
      "Epoch: 16/20... Step: 2110... Loss: 1.2716... Val Loss: 1.3240\n",
      "Epoch: 16/20... Step: 2120... Loss: 1.2808... Val Loss: 1.3250\n",
      "Epoch: 16/20... Step: 2130... Loss: 1.2607... Val Loss: 1.3263\n",
      "Epoch: 16/20... Step: 2140... Loss: 1.2708... Val Loss: 1.3239\n",
      "Epoch: 16/20... Step: 2150... Loss: 1.2978... Val Loss: 1.3223\n",
      "Epoch: 16/20... Step: 2160... Loss: 1.2743... Val Loss: 1.3290\n",
      "Epoch: 16/20... Step: 2170... Loss: 1.2718... Val Loss: 1.3237\n",
      "Epoch: 16/20... Step: 2180... Loss: 1.2675... Val Loss: 1.3199\n",
      "Epoch: 16/20... Step: 2190... Loss: 1.2897... Val Loss: 1.3231\n",
      "Epoch: 16/20... Step: 2200... Loss: 1.2636... Val Loss: 1.3205\n",
      "Epoch: 16/20... Step: 2210... Loss: 1.2246... Val Loss: 1.3188\n",
      "Epoch: 16/20... Step: 2220... Loss: 1.2799... Val Loss: 1.3226\n",
      "Epoch: 17/20... Step: 2230... Loss: 1.2445... Val Loss: 1.3204\n",
      "Epoch: 17/20... Step: 2240... Loss: 1.2632... Val Loss: 1.3161\n",
      "Epoch: 17/20... Step: 2250... Loss: 1.2428... Val Loss: 1.3194\n",
      "Epoch: 17/20... Step: 2260... Loss: 1.2560... Val Loss: 1.3188\n",
      "Epoch: 17/20... Step: 2270... Loss: 1.2654... Val Loss: 1.3209\n",
      "Epoch: 17/20... Step: 2280... Loss: 1.2720... Val Loss: 1.3166\n",
      "Epoch: 17/20... Step: 2290... Loss: 1.2754... Val Loss: 1.3139\n",
      "Epoch: 17/20... Step: 2300... Loss: 1.2334... Val Loss: 1.3172\n",
      "Epoch: 17/20... Step: 2310... Loss: 1.2614... Val Loss: 1.3142\n",
      "Epoch: 17/20... Step: 2320... Loss: 1.2509... Val Loss: 1.3132\n",
      "Epoch: 17/20... Step: 2330... Loss: 1.2445... Val Loss: 1.3158\n",
      "Epoch: 17/20... Step: 2340... Loss: 1.2622... Val Loss: 1.3120\n",
      "Epoch: 17/20... Step: 2350... Loss: 1.2684... Val Loss: 1.3113\n",
      "Epoch: 17/20... Step: 2360... Loss: 1.2719... Val Loss: 1.3132\n",
      "Epoch: 18/20... Step: 2370... Loss: 1.2368... Val Loss: 1.3112\n",
      "Epoch: 18/20... Step: 2380... Loss: 1.2451... Val Loss: 1.3090\n",
      "Epoch: 18/20... Step: 2390... Loss: 1.2521... Val Loss: 1.3142\n",
      "Epoch: 18/20... Step: 2400... Loss: 1.2763... Val Loss: 1.3100\n",
      "Epoch: 18/20... Step: 2410... Loss: 1.2621... Val Loss: 1.3098\n",
      "Epoch: 18/20... Step: 2420... Loss: 1.2469... Val Loss: 1.3079\n",
      "Epoch: 18/20... Step: 2430... Loss: 1.2522... Val Loss: 1.3061\n",
      "Epoch: 18/20... Step: 2440... Loss: 1.2427... Val Loss: 1.3068\n",
      "Epoch: 18/20... Step: 2450... Loss: 1.2402... Val Loss: 1.3049\n",
      "Epoch: 18/20... Step: 2460... Loss: 1.2449... Val Loss: 1.3035\n",
      "Epoch: 18/20... Step: 2470... Loss: 1.2420... Val Loss: 1.3087\n",
      "Epoch: 18/20... Step: 2480... Loss: 1.2360... Val Loss: 1.3020\n",
      "Epoch: 18/20... Step: 2490... Loss: 1.2308... Val Loss: 1.3093\n",
      "Epoch: 18/20... Step: 2500... Loss: 1.2465... Val Loss: 1.3101\n",
      "Epoch: 19/20... Step: 2510... Loss: 1.2453... Val Loss: 1.3027\n",
      "Epoch: 19/20... Step: 2520... Loss: 1.2516... Val Loss: 1.3044\n",
      "Epoch: 19/20... Step: 2530... Loss: 1.2579... Val Loss: 1.3061\n",
      "Epoch: 19/20... Step: 2540... Loss: 1.2605... Val Loss: 1.3058\n",
      "Epoch: 19/20... Step: 2550... Loss: 1.2392... Val Loss: 1.3105\n",
      "Epoch: 19/20... Step: 2560... Loss: 1.2524... Val Loss: 1.3067\n",
      "Epoch: 19/20... Step: 2570... Loss: 1.2300... Val Loss: 1.3046\n",
      "Epoch: 19/20... Step: 2580... Loss: 1.2703... Val Loss: 1.3031\n",
      "Epoch: 19/20... Step: 2590... Loss: 1.2312... Val Loss: 1.3018\n",
      "Epoch: 19/20... Step: 2600... Loss: 1.2263... Val Loss: 1.3011\n",
      "Epoch: 19/20... Step: 2610... Loss: 1.2411... Val Loss: 1.3027\n",
      "Epoch: 19/20... Step: 2620... Loss: 1.2211... Val Loss: 1.3003\n",
      "Epoch: 19/20... Step: 2630... Loss: 1.2299... Val Loss: 1.2987\n",
      "Epoch: 19/20... Step: 2640... Loss: 1.2380... Val Loss: 1.3003\n",
      "Epoch: 20/20... Step: 2650... Loss: 1.2418... Val Loss: 1.2969\n"
     ]
    },
    {
     "name": "stdout",
     "output_type": "stream",
     "text": [
      "Epoch: 20/20... Step: 2660... Loss: 1.2410... Val Loss: 1.2981\n",
      "Epoch: 20/20... Step: 2670... Loss: 1.2445... Val Loss: 1.2980\n",
      "Epoch: 20/20... Step: 2680... Loss: 1.2368... Val Loss: 1.2970\n",
      "Epoch: 20/20... Step: 2690... Loss: 1.2267... Val Loss: 1.3005\n",
      "Epoch: 20/20... Step: 2700... Loss: 1.2407... Val Loss: 1.2972\n",
      "Epoch: 20/20... Step: 2710... Loss: 1.2044... Val Loss: 1.2973\n",
      "Epoch: 20/20... Step: 2720... Loss: 1.2143... Val Loss: 1.2944\n",
      "Epoch: 20/20... Step: 2730... Loss: 1.2054... Val Loss: 1.2960\n",
      "Epoch: 20/20... Step: 2740... Loss: 1.2033... Val Loss: 1.2960\n",
      "Epoch: 20/20... Step: 2750... Loss: 1.2106... Val Loss: 1.2983\n",
      "Epoch: 20/20... Step: 2760... Loss: 1.2080... Val Loss: 1.2956\n",
      "Epoch: 20/20... Step: 2770... Loss: 1.2465... Val Loss: 1.2927\n",
      "Epoch: 20/20... Step: 2780... Loss: 1.2610... Val Loss: 1.2932\n"
     ]
    }
   ],
   "source": [
    "batch_size = 128\n",
    "seq_length = 100\n",
    "n_epochs = 20 # start smaller if you are just testing initial behavior\n",
    "\n",
    "# train the model\n",
    "train(net, encoded, epochs=n_epochs, batch_size=batch_size, seq_length=seq_length, lr=0.001, print_every=10)"
   ]
  },
  {
   "cell_type": "markdown",
   "metadata": {},
   "source": [
    "## Getting the best model\n",
    "\n",
    "To set your hyperparameters to get the best performance, you'll want to watch the training and validation losses. If your training loss is much lower than the validation loss, you're overfitting. Increase regularization (more dropout) or use a smaller network. If the training and validation losses are close, you're underfitting so you can increase the size of the network."
   ]
  },
  {
   "cell_type": "markdown",
   "metadata": {},
   "source": [
    "## Hyperparameters\n",
    "\n",
    "Here are the hyperparameters for the network.\n",
    "\n",
    "In defining the model:\n",
    "* `n_hidden` - The number of units in the hidden layers.\n",
    "* `n_layers` - Number of hidden LSTM layers to use.\n",
    "\n",
    "We assume that dropout probability and learning rate will be kept at the default, in this example.\n",
    "\n",
    "And in training:\n",
    "* `batch_size` - Number of sequences running through the network in one pass.\n",
    "* `seq_length` - Number of characters in the sequence the network is trained on. Larger is better typically, the network will learn more long range dependencies. But it takes longer to train. 100 is typically a good number here.\n",
    "* `lr` - Learning rate for training\n",
    "\n",
    "Here's some good advice from Andrej Karpathy on training the network. I'm going to copy it in here for your benefit, but also link to [where it originally came from](https://github.com/karpathy/char-rnn#tips-and-tricks).\n",
    "\n",
    "> ## Tips and Tricks\n",
    "\n",
    ">### Monitoring Validation Loss vs. Training Loss\n",
    ">If you're somewhat new to Machine Learning or Neural Networks it can take a bit of expertise to get good models. The most important quantity to keep track of is the difference between your training loss (printed during training) and the validation loss (printed once in a while when the RNN is run on the validation data (by default every 1000 iterations)). In particular:\n",
    "\n",
    "> - If your training loss is much lower than validation loss then this means the network might be **overfitting**. Solutions to this are to decrease your network size, or to increase dropout. For example you could try dropout of 0.5 and so on.\n",
    "> - If your training/validation loss are about equal then your model is **underfitting**. Increase the size of your model (either number of layers or the raw number of neurons per layer)\n",
    "\n",
    "> ### Approximate number of parameters\n",
    "\n",
    "> The two most important parameters that control the model are `n_hidden` and `n_layers`. I would advise that you always use `n_layers` of either 2/3. The `n_hidden` can be adjusted based on how much data you have. The two important quantities to keep track of here are:\n",
    "\n",
    "> - The number of parameters in your model. This is printed when you start training.\n",
    "> - The size of your dataset. 1MB file is approximately 1 million characters.\n",
    "\n",
    ">These two should be about the same order of magnitude. It's a little tricky to tell. Here are some examples:\n",
    "\n",
    "> - I have a 100MB dataset and I'm using the default parameter settings (which currently print 150K parameters). My data size is significantly larger (100 mil >> 0.15 mil), so I expect to heavily underfit. I am thinking I can comfortably afford to make `n_hidden` larger.\n",
    "> - I have a 10MB dataset and running a 10 million parameter model. I'm slightly nervous and I'm carefully monitoring my validation loss. If it's larger than my training loss then I may want to try to increase dropout a bit and see if that helps the validation loss.\n",
    "\n",
    "> ### Best models strategy\n",
    "\n",
    ">The winning strategy to obtaining very good models (if you have the compute time) is to always err on making the network larger (as large as you're willing to wait for it to compute) and then try different dropout values (between 0,1). Whatever model has the best validation performance (the loss, written in the checkpoint filename, low is good) is the one you should use in the end.\n",
    "\n",
    ">It is very common in deep learning to run many different models with many different hyperparameter settings, and in the end take whatever checkpoint gave the best validation performance.\n",
    "\n",
    ">By the way, the size of your training and validation splits are also parameters. Make sure you have a decent amount of data in your validation set or otherwise the validation performance will be noisy and not very informative."
   ]
  },
  {
   "cell_type": "markdown",
   "metadata": {},
   "source": [
    "## Checkpoint\n",
    "\n",
    "After training, we'll save the model so we can load it again later if we need too. Here I'm saving the parameters needed to create the same architecture, the hidden layer hyperparameters and the text characters."
   ]
  },
  {
   "cell_type": "code",
   "execution_count": 38,
   "metadata": {},
   "outputs": [],
   "source": [
    "# change the name, for saving multiple files\n",
    "model_name = 'rnn_x_epoch.net'\n",
    "\n",
    "checkpoint = {'n_hidden': net.n_hidden,\n",
    "              'n_layers': net.n_layers,\n",
    "              'state_dict': net.state_dict(),\n",
    "              'tokens': net.chars}\n",
    "\n",
    "with open(model_name, 'wb') as f:\n",
    "    torch.save(checkpoint, f)"
   ]
  },
  {
   "cell_type": "markdown",
   "metadata": {},
   "source": [
    "---\n",
    "## Making Predictions\n",
    "\n",
    "Now that the model is trained, we'll want to sample from it and make predictions about next characters! To sample, we pass in a character and have the network predict the next character. Then we take that character, pass it back in, and get another predicted character. Just keep doing this and you'll generate a bunch of text!\n",
    "\n",
    "### A note on the `predict`  function\n",
    "\n",
    "The output of our RNN is from a fully-connected layer and it outputs a **distribution of next-character scores**.\n",
    "\n",
    "> To actually get the next character, we apply a softmax function, which gives us a *probability* distribution that we can then sample to predict the next character.\n",
    "\n",
    "### Top K sampling\n",
    "\n",
    "Our predictions come from a categorical probability distribution over all the possible characters. We can make the sample text and make it more reasonable to handle (with less variables) by only considering some $K$ most probable characters. This will prevent the network from giving us completely absurd characters while allowing it to introduce some noise and randomness into the sampled text. Read more about [topk, here](https://pytorch.org/docs/stable/torch.html#torch.topk).\n"
   ]
  },
  {
   "cell_type": "code",
   "execution_count": 39,
   "metadata": {},
   "outputs": [],
   "source": [
    "def predict(net, char, h=None, top_k=None):\n",
    "        ''' Given a character, predict the next character.\n",
    "            Returns the predicted character and the hidden state.\n",
    "        '''\n",
    "        \n",
    "        # tensor inputs\n",
    "        x = np.array([[net.char2int[char]]])\n",
    "        x = one_hot_encode(x, len(net.chars))\n",
    "        inputs = torch.from_numpy(x)\n",
    "        \n",
    "        if(train_on_gpu):\n",
    "            inputs = inputs.cuda()\n",
    "        \n",
    "        # detach hidden state from history\n",
    "        h = tuple([each.data for each in h])\n",
    "        # get the output of the model\n",
    "        out, h = net(inputs, h)\n",
    "\n",
    "        # get the character probabilities\n",
    "        p = F.softmax(out, dim=1).data\n",
    "        if(train_on_gpu):\n",
    "            p = p.cpu() # move to cpu\n",
    "        \n",
    "        # get top characters\n",
    "        if top_k is None:\n",
    "            top_ch = np.arange(len(net.chars))\n",
    "        else:\n",
    "            p, top_ch = p.topk(top_k)\n",
    "            top_ch = top_ch.numpy().squeeze()\n",
    "        \n",
    "        # select the likely next character with some element of randomness\n",
    "        p = p.numpy().squeeze()\n",
    "        char = np.random.choice(top_ch, p=p/p.sum())\n",
    "        \n",
    "        # return the encoded value of the predicted char and the hidden state\n",
    "        return net.int2char[char], h"
   ]
  },
  {
   "cell_type": "markdown",
   "metadata": {},
   "source": [
    "### Priming and generating text \n",
    "\n",
    "Typically you'll want to prime the network so you can build up a hidden state. Otherwise the network will start out generating characters at random. In general the first bunch of characters will be a little rough since it hasn't built up a long history of characters to predict from."
   ]
  },
  {
   "cell_type": "code",
   "execution_count": 40,
   "metadata": {},
   "outputs": [],
   "source": [
    "def sample(net, size, prime='The', top_k=None):\n",
    "        \n",
    "    if(train_on_gpu):\n",
    "        net.cuda()\n",
    "    else:\n",
    "        net.cpu()\n",
    "    \n",
    "    net.eval() # eval mode\n",
    "    \n",
    "    # First off, run through the prime characters\n",
    "    chars = [ch for ch in prime]\n",
    "    h = net.init_hidden(1)\n",
    "    for ch in prime:\n",
    "        char, h = predict(net, ch, h, top_k=top_k)\n",
    "\n",
    "    chars.append(char)\n",
    "    \n",
    "    # Now pass in the previous character and get a new one\n",
    "    for ii in range(size):\n",
    "        char, h = predict(net, chars[-1], h, top_k=top_k)\n",
    "        chars.append(char)\n",
    "\n",
    "    return ''.join(chars)"
   ]
  },
  {
   "cell_type": "code",
   "execution_count": 41,
   "metadata": {},
   "outputs": [
    {
     "name": "stdout",
     "output_type": "stream",
     "text": [
      "Annathel's and this strange.\n",
      "\n",
      "The compression in the\n",
      "moment that was in the subjeng, and was all about to ask about him, how an table which had too tortured him through their\n",
      "servant, and she was so strain of a lovel of the\n",
      "support. Besides the starmed high oreanizes that she was strengthening a smile. She had nect as\n",
      "he doesned. He could sink on the same, and was taken up her hand to them. He was standing on its fach, and went in the court of the peepod. And he standdered at the pitte. He\n",
      "came into his face and seemed to him. \"Well, that's not a sort of most attaction, and we've no\n",
      "round to me.\n",
      "What are you miserably?\" thought Levin, with all the principles with himself that\n",
      "he clutched his head in the\n",
      "points, and a speciar sort, so seemed all once to the sight, and taking his head with her hind and the same steps out of\n",
      "the district to the poarames of her place.\n",
      "\n",
      "She had not come\n",
      "for me, started the same. The country should happed happy, and to be sure in the farsionable sighificance out \n"
     ]
    }
   ],
   "source": [
    "print(sample(net, 1000, prime='Anna', top_k=5))"
   ]
  },
  {
   "cell_type": "markdown",
   "metadata": {},
   "source": [
    "## Loading a checkpoint"
   ]
  },
  {
   "cell_type": "code",
   "execution_count": 42,
   "metadata": {},
   "outputs": [
    {
     "data": {
      "text/plain": [
       "IncompatibleKeys(missing_keys=[], unexpected_keys=[])"
      ]
     },
     "execution_count": 42,
     "metadata": {},
     "output_type": "execute_result"
    }
   ],
   "source": [
    "# Here we have loaded in a model that trained over 20 epochs `rnn_20_epoch.net`\n",
    "with open('rnn_x_epoch.net', 'rb') as f:\n",
    "    checkpoint = torch.load(f)\n",
    "    \n",
    "loaded = CharRNN(checkpoint['tokens'], n_hidden=checkpoint['n_hidden'], n_layers=checkpoint['n_layers'])\n",
    "loaded.load_state_dict(checkpoint['state_dict'])"
   ]
  },
  {
   "cell_type": "code",
   "execution_count": 43,
   "metadata": {},
   "outputs": [
    {
     "name": "stdout",
     "output_type": "stream",
     "text": [
      "And Levin said this\n",
      "instant, and that they were at this. How servants had strenge at her head in the princess at something tried, and he was straight on a\n",
      "silence again, and she spoke\n",
      "to her, and the same timid sensation there was taking her as his hand of this\n",
      "soul,\n",
      "and taking his head at once in the superindons, and the peasants was the care, had taken the sound, but a part of the marshal stooded tunness with him. And that she sat down thore and high, but he would not speak of how he continually asking herself in a crops, and the cart he was to seem\n",
      "in happy for this, and the prace senst of head was not so strange. He was stretching to the convicion of his secretary was at\n",
      "orce to be done.\n",
      "\n",
      "\"Yes, it's a special sort of manation. Will you talk about the sofu of the children.\"\n",
      "\n",
      "Though he had not\n",
      "desired to speak\n",
      "of all that\n",
      "there saw\n",
      "all that he had so much a man with his cast in his hand, and the same table to sens the clads. The princess assived his bearding and asked himself at a laughter and his chain and service on\n",
      "the connection of the cheeches troused, she saw him in her hands to\n",
      "her and tellon at one and could be\n",
      "seen a more and minute. She felt it and had no receiving anyone and and the friend was a light of any of the subject, and all was\n",
      "that it was in the forest, he had answered to the carefulless and casely. Then he was not\n",
      "so trandformed in the strange, who did\n",
      "not know that\n",
      "they\n",
      "were a man who had the contrary in\n",
      "that whispers had been dining into the provated beard of the feolles which he had been so struck\n",
      "his hands, but. The counting thoughts he felt the country, and the person as though he had not been fascinating that he went, her face to\n",
      "the parts and a corter, was delighted a looking\n",
      "and those\n",
      "children and\n",
      "told him. \"I don't say it's thinking of them. What's to say that it's so married! You want all one's to speak and thinks of it.\n",
      "\n",
      "This is.\"\n",
      "\n",
      "\"Ah, I don't know.\"\n",
      "\n",
      "Stepan\n",
      "Arkadyevitch saw her friendship, the peasants, with that man were so meanor. He was talki\n"
     ]
    }
   ],
   "source": [
    "# Sample using a loaded model\n",
    "print(sample(loaded, 2000, top_k=5, prime=\"And Levin said\"))"
   ]
  },
  {
   "cell_type": "code",
   "execution_count": null,
   "metadata": {
    "collapsed": true
   },
   "outputs": [],
   "source": []
  }
 ],
 "metadata": {
  "kernelspec": {
   "display_name": "Python 3",
   "language": "python",
   "name": "python3"
  },
  "language_info": {
   "codemirror_mode": {
    "name": "ipython",
    "version": 3
   },
   "file_extension": ".py",
   "mimetype": "text/x-python",
   "name": "python",
   "nbconvert_exporter": "python",
   "pygments_lexer": "ipython3",
   "version": "3.6.7"
  }
 },
 "nbformat": 4,
 "nbformat_minor": 2
}
